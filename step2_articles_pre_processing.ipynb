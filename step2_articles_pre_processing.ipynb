{
 "cells": [
  {
   "cell_type": "code",
   "execution_count": 1,
   "id": "ddc5d4f8",
   "metadata": {},
   "outputs": [
    {
     "name": "stderr",
     "output_type": "stream",
     "text": [
      "Since the GPL-licensed package `unidecode` is not installed, using Python's `unicodedata` package which yields worse results.\n"
     ]
    }
   ],
   "source": [
    "import pandas as pd\n",
    "from cleantext import clean\n",
    "\n",
    "from nltk.corpus import stopwords\n",
    "from nltk.probability import FreqDist\n",
    "import numpy as np"
   ]
  },
  {
   "cell_type": "code",
   "execution_count": 2,
   "id": "fe9c89e7",
   "metadata": {},
   "outputs": [],
   "source": [
    "def limpar_texto(text):\n",
    "    \n",
    "    return clean.clean(text,\n",
    "                    fix_unicode=True,              \n",
    "                    to_ascii=True,                 \n",
    "                    lower=True,                    \n",
    "                    no_line_breaks=True,\n",
    "                    no_urls=True,\n",
    "                    no_emails=True,     \n",
    "                    no_phone_numbers=True,\n",
    "                    no_numbers=True,      \n",
    "                    no_digits=True,       \n",
    "                    no_currency_symbols=True, \n",
    "                    no_punct=True,          \n",
    "                    replace_with_punct=\"\",\n",
    "                    replace_with_url=\"\",\n",
    "                    replace_with_email=\"\",\n",
    "                    replace_with_phone_number=\"\",\n",
    "                    replace_with_number=\"\",\n",
    "                    replace_with_digit=\"\",\n",
    "                    replace_with_currency_symbol=\"\",\n",
    "                    lang=\"pt-br\"\n",
    "                )\n",
    "    \n",
    "def plot_frequencia_tokens(tokens):\n",
    "    fd_words = FreqDist(tokens)\n",
    "    fd_words.plot(20)\n",
    "    \n",
    "def remover_stopwords(text, personal_stop=[]):\n",
    "    \n",
    "    portugues_stops = stopwords.words('portuguese')\n",
    "\n",
    "    text = text.split(' ')\n",
    "    text = [x for x in text if x not in portugues_stops]\n",
    "    text = [x for x in text if x not in personal_stop]\n",
    "    return ' '.join(text)\n",
    "\n",
    "def get_most_frequent_words(words, total=100):\n",
    "    fd_words = FreqDist(words)\n",
    "\n",
    "    words_to_remove = []\n",
    "    counter = 0\n",
    "    for word, i in fd_words.most_common():\n",
    "        words_to_remove.append(word)\n",
    "        counter += 1\n",
    "        if counter > total:\n",
    "            break\n",
    "    \n",
    "    return words_to_remove\n",
    "    \n",
    "def contador_palavras(texts):\n",
    "    total = 0\n",
    "    count_texts = 0\n",
    "    max = 0\n",
    "    min = 0\n",
    "    for text in texts:\n",
    "        count_texts += 1\n",
    "        total_palavras = len(text.split(' '))\n",
    "        total += total_palavras\n",
    "        if total_palavras > max:\n",
    "            max = total_palavras\n",
    "        \n",
    "        if min > total_palavras or min == 0:\n",
    "            min = total_palavras\n",
    "\n",
    "    return total, total/count_texts, max, min\n",
    "\n",
    "def listar_palavras_do_Series(series):\n",
    "    words_to_remove = []\n",
    "    for text in series:\n",
    "        for word in text.split(' '):\n",
    "            words_to_remove.append(word)\n",
    "\n",
    "    return words_to_remove\n",
    "\n"
   ]
  },
  {
   "cell_type": "code",
   "execution_count": 3,
   "id": "65de9c57",
   "metadata": {},
   "outputs": [],
   "source": [
    "df_artigos = pd.read_csv('articles.csv')\n",
    "df_novos_artigos = pd.read_excel(\"new_scrapped_articles/fixed_articles.xlsx\")\n"
   ]
  },
  {
   "cell_type": "code",
   "execution_count": 4,
   "id": "4a7fefff",
   "metadata": {},
   "outputs": [
    {
     "data": {
      "text/html": [
       "<div>\n",
       "<style scoped>\n",
       "    .dataframe tbody tr th:only-of-type {\n",
       "        vertical-align: middle;\n",
       "    }\n",
       "\n",
       "    .dataframe tbody tr th {\n",
       "        vertical-align: top;\n",
       "    }\n",
       "\n",
       "    .dataframe thead th {\n",
       "        text-align: right;\n",
       "    }\n",
       "</style>\n",
       "<table border=\"1\" class=\"dataframe\">\n",
       "  <thead>\n",
       "    <tr style=\"text-align: right;\">\n",
       "      <th></th>\n",
       "      <th>title</th>\n",
       "      <th>text</th>\n",
       "      <th>date</th>\n",
       "      <th>category</th>\n",
       "      <th>subcategory</th>\n",
       "      <th>link</th>\n",
       "    </tr>\n",
       "  </thead>\n",
       "  <tbody>\n",
       "    <tr>\n",
       "      <th>0</th>\n",
       "      <td>Lula diz que está 'lascado', mas que ainda tem...</td>\n",
       "      <td>Com a possibilidade de uma condenação impedir ...</td>\n",
       "      <td>2017-09-10</td>\n",
       "      <td>poder</td>\n",
       "      <td>NaN</td>\n",
       "      <td>http://www1.folha.uol.com.br/poder/2017/10/192...</td>\n",
       "    </tr>\n",
       "    <tr>\n",
       "      <th>1</th>\n",
       "      <td>'Decidi ser escrava das mulheres que sofrem', ...</td>\n",
       "      <td>Para Oumou Sangaré, cantora e ativista malines...</td>\n",
       "      <td>2017-09-10</td>\n",
       "      <td>ilustrada</td>\n",
       "      <td>NaN</td>\n",
       "      <td>http://www1.folha.uol.com.br/ilustrada/2017/10...</td>\n",
       "    </tr>\n",
       "    <tr>\n",
       "      <th>2</th>\n",
       "      <td>Três reportagens da Folha ganham Prêmio Petrob...</td>\n",
       "      <td>Três reportagens da Folha foram vencedoras do ...</td>\n",
       "      <td>2017-09-10</td>\n",
       "      <td>poder</td>\n",
       "      <td>NaN</td>\n",
       "      <td>http://www1.folha.uol.com.br/poder/2017/10/192...</td>\n",
       "    </tr>\n",
       "    <tr>\n",
       "      <th>3</th>\n",
       "      <td>Filme 'Star Wars: Os Últimos Jedi' ganha trail...</td>\n",
       "      <td>A Disney divulgou na noite desta segunda-feira...</td>\n",
       "      <td>2017-09-10</td>\n",
       "      <td>ilustrada</td>\n",
       "      <td>NaN</td>\n",
       "      <td>http://www1.folha.uol.com.br/ilustrada/2017/10...</td>\n",
       "    </tr>\n",
       "    <tr>\n",
       "      <th>4</th>\n",
       "      <td>CBSS inicia acordos com fintechs e quer 30% do...</td>\n",
       "      <td>O CBSS, banco da holding Elopar dos sócios Bra...</td>\n",
       "      <td>2017-09-10</td>\n",
       "      <td>mercado</td>\n",
       "      <td>NaN</td>\n",
       "      <td>http://www1.folha.uol.com.br/mercado/2017/10/1...</td>\n",
       "    </tr>\n",
       "  </tbody>\n",
       "</table>\n",
       "</div>"
      ],
      "text/plain": [
       "                                               title  \\\n",
       "0  Lula diz que está 'lascado', mas que ainda tem...   \n",
       "1  'Decidi ser escrava das mulheres que sofrem', ...   \n",
       "2  Três reportagens da Folha ganham Prêmio Petrob...   \n",
       "3  Filme 'Star Wars: Os Últimos Jedi' ganha trail...   \n",
       "4  CBSS inicia acordos com fintechs e quer 30% do...   \n",
       "\n",
       "                                                text        date   category  \\\n",
       "0  Com a possibilidade de uma condenação impedir ...  2017-09-10      poder   \n",
       "1  Para Oumou Sangaré, cantora e ativista malines...  2017-09-10  ilustrada   \n",
       "2  Três reportagens da Folha foram vencedoras do ...  2017-09-10      poder   \n",
       "3  A Disney divulgou na noite desta segunda-feira...  2017-09-10  ilustrada   \n",
       "4  O CBSS, banco da holding Elopar dos sócios Bra...  2017-09-10    mercado   \n",
       "\n",
       "  subcategory                                               link  \n",
       "0         NaN  http://www1.folha.uol.com.br/poder/2017/10/192...  \n",
       "1         NaN  http://www1.folha.uol.com.br/ilustrada/2017/10...  \n",
       "2         NaN  http://www1.folha.uol.com.br/poder/2017/10/192...  \n",
       "3         NaN  http://www1.folha.uol.com.br/ilustrada/2017/10...  \n",
       "4         NaN  http://www1.folha.uol.com.br/mercado/2017/10/1...  "
      ]
     },
     "execution_count": 4,
     "metadata": {},
     "output_type": "execute_result"
    }
   ],
   "source": [
    "df_artigos.head()"
   ]
  },
  {
   "cell_type": "code",
   "execution_count": null,
   "id": "c507e648",
   "metadata": {},
   "outputs": [],
   "source": [
    "df_artigos.date = df_artigos.date.astype(str)"
   ]
  },
  {
   "cell_type": "code",
   "execution_count": 5,
   "id": "e57ac91a",
   "metadata": {},
   "outputs": [
    {
     "data": {
      "text/plain": [
       "((64, 5), (3472, 5))"
      ]
     },
     "execution_count": 5,
     "metadata": {},
     "output_type": "execute_result"
    }
   ],
   "source": [
    "df_novos_artigos[df_novos_artigos.date == 'None'].shape, df_novos_artigos.shape"
   ]
  },
  {
   "cell_type": "code",
   "execution_count": 6,
   "id": "2668e947",
   "metadata": {},
   "outputs": [],
   "source": [
    "df_novos_artigos.drop(inplace=True, index=df_novos_artigos[df_novos_artigos.date == 'None'].index)"
   ]
  },
  {
   "cell_type": "code",
   "execution_count": 7,
   "id": "0b056caf",
   "metadata": {},
   "outputs": [],
   "source": [
    "df_novos_artigos.date = pd.to_datetime(df_novos_artigos.date)"
   ]
  },
  {
   "cell_type": "code",
   "execution_count": 8,
   "id": "74f738bf",
   "metadata": {},
   "outputs": [
    {
     "data": {
      "text/plain": [
       "(Timestamp('2016-12-05 00:00:00'), '2017-09-10')"
      ]
     },
     "execution_count": 8,
     "metadata": {},
     "output_type": "execute_result"
    }
   ],
   "source": [
    "df_novos_artigos.date[1], df_artigos.date[1]"
   ]
  },
  {
   "cell_type": "code",
   "execution_count": 9,
   "id": "392732ce",
   "metadata": {},
   "outputs": [
    {
     "data": {
      "text/plain": [
       "(167053, 6)"
      ]
     },
     "execution_count": 9,
     "metadata": {},
     "output_type": "execute_result"
    }
   ],
   "source": [
    "df_artigos.shape"
   ]
  },
  {
   "cell_type": "code",
   "execution_count": 24,
   "id": "871290f1",
   "metadata": {},
   "outputs": [],
   "source": [
    "new_data = []\n",
    "\n",
    "for i, item in df_novos_artigos.iterrows():\n",
    "\n",
    "    new_data.append([\n",
    "            item.title, \n",
    "            item.text,\n",
    "            item.date.strftime('%Y-%m-%d'),\n",
    "            str(item.section).lower(),\n",
    "            np.nan,\n",
    "            item.url,\n",
    "        ])\n",
    "\n"
   ]
  },
  {
   "cell_type": "code",
   "execution_count": 25,
   "id": "75a1e34b",
   "metadata": {},
   "outputs": [],
   "source": [
    "df_novos_artigos_2 = pd.DataFrame(columns=[\n",
    "            'title', \n",
    "            'text',\n",
    "            'date',\n",
    "            'category',\n",
    "            'subcategory',\n",
    "            'link']\n",
    "            , data=new_data\n",
    "            )"
   ]
  },
  {
   "cell_type": "code",
   "execution_count": 26,
   "id": "3e7b84e2",
   "metadata": {},
   "outputs": [
    {
     "data": {
      "text/html": [
       "<div>\n",
       "<style scoped>\n",
       "    .dataframe tbody tr th:only-of-type {\n",
       "        vertical-align: middle;\n",
       "    }\n",
       "\n",
       "    .dataframe tbody tr th {\n",
       "        vertical-align: top;\n",
       "    }\n",
       "\n",
       "    .dataframe thead th {\n",
       "        text-align: right;\n",
       "    }\n",
       "</style>\n",
       "<table border=\"1\" class=\"dataframe\">\n",
       "  <thead>\n",
       "    <tr style=\"text-align: right;\">\n",
       "      <th></th>\n",
       "      <th>title</th>\n",
       "      <th>text</th>\n",
       "      <th>date</th>\n",
       "      <th>category</th>\n",
       "      <th>subcategory</th>\n",
       "      <th>link</th>\n",
       "    </tr>\n",
       "  </thead>\n",
       "  <tbody>\n",
       "    <tr>\n",
       "      <th>0</th>\n",
       "      <td>Após dois cortes, Petrobras eleva preços da ga...</td>\n",
       "      <td>Mal o consumidor sentiu no bolso o impacto de ...</td>\n",
       "      <td>2016-12-05</td>\n",
       "      <td>mercado</td>\n",
       "      <td>NaN</td>\n",
       "      <td>http://www1.folha.uol.com.br/mercado/2016/12/1...</td>\n",
       "    </tr>\n",
       "    <tr>\n",
       "      <th>1</th>\n",
       "      <td>Liminar da Justiça de Sergipe suspende venda d...</td>\n",
       "      <td>A 3ª Vara da Justiça Federal de Sergipe determ...</td>\n",
       "      <td>2016-12-05</td>\n",
       "      <td>mercado</td>\n",
       "      <td>NaN</td>\n",
       "      <td>http://www1.folha.uol.com.br/mercado/2016/12/1...</td>\n",
       "    </tr>\n",
       "    <tr>\n",
       "      <th>2</th>\n",
       "      <td>Dólar recua mais de 1% após protestos pouparem...</td>\n",
       "      <td>O real teve uma das maiores valorizações entre...</td>\n",
       "      <td>2016-12-05</td>\n",
       "      <td>mercado</td>\n",
       "      <td>NaN</td>\n",
       "      <td>http://www1.folha.uol.com.br/mercado/2016/12/1...</td>\n",
       "    </tr>\n",
       "    <tr>\n",
       "      <th>3</th>\n",
       "      <td>Metade das empresas não tem caixa para pagar d...</td>\n",
       "      <td>A prolongada crise econômica que o país atrave...</td>\n",
       "      <td>2016-12-04</td>\n",
       "      <td>mercado</td>\n",
       "      <td>NaN</td>\n",
       "      <td>http://www1.folha.uol.com.br/mercado/2016/12/1...</td>\n",
       "    </tr>\n",
       "    <tr>\n",
       "      <th>4</th>\n",
       "      <td>Governo busca executivo experiente para o coma...</td>\n",
       "      <td>Sob pressão do PMDB da Câmara dos Deputados pa...</td>\n",
       "      <td>2016-11-05</td>\n",
       "      <td>mercado</td>\n",
       "      <td>NaN</td>\n",
       "      <td>http://www1.folha.uol.com.br/mercado/2016/11/1...</td>\n",
       "    </tr>\n",
       "  </tbody>\n",
       "</table>\n",
       "</div>"
      ],
      "text/plain": [
       "                                               title  \\\n",
       "0  Após dois cortes, Petrobras eleva preços da ga...   \n",
       "1  Liminar da Justiça de Sergipe suspende venda d...   \n",
       "2  Dólar recua mais de 1% após protestos pouparem...   \n",
       "3  Metade das empresas não tem caixa para pagar d...   \n",
       "4  Governo busca executivo experiente para o coma...   \n",
       "\n",
       "                                                text        date category  \\\n",
       "0  Mal o consumidor sentiu no bolso o impacto de ...  2016-12-05  mercado   \n",
       "1  A 3ª Vara da Justiça Federal de Sergipe determ...  2016-12-05  mercado   \n",
       "2  O real teve uma das maiores valorizações entre...  2016-12-05  mercado   \n",
       "3  A prolongada crise econômica que o país atrave...  2016-12-04  mercado   \n",
       "4  Sob pressão do PMDB da Câmara dos Deputados pa...  2016-11-05  mercado   \n",
       "\n",
       "   subcategory                                               link  \n",
       "0          NaN  http://www1.folha.uol.com.br/mercado/2016/12/1...  \n",
       "1          NaN  http://www1.folha.uol.com.br/mercado/2016/12/1...  \n",
       "2          NaN  http://www1.folha.uol.com.br/mercado/2016/12/1...  \n",
       "3          NaN  http://www1.folha.uol.com.br/mercado/2016/12/1...  \n",
       "4          NaN  http://www1.folha.uol.com.br/mercado/2016/11/1...  "
      ]
     },
     "execution_count": 26,
     "metadata": {},
     "output_type": "execute_result"
    }
   ],
   "source": [
    "df_novos_artigos_2.head()"
   ]
  },
  {
   "cell_type": "code",
   "execution_count": 27,
   "id": "34e70038",
   "metadata": {},
   "outputs": [
    {
     "data": {
      "text/html": [
       "<div>\n",
       "<style scoped>\n",
       "    .dataframe tbody tr th:only-of-type {\n",
       "        vertical-align: middle;\n",
       "    }\n",
       "\n",
       "    .dataframe tbody tr th {\n",
       "        vertical-align: top;\n",
       "    }\n",
       "\n",
       "    .dataframe thead th {\n",
       "        text-align: right;\n",
       "    }\n",
       "</style>\n",
       "<table border=\"1\" class=\"dataframe\">\n",
       "  <thead>\n",
       "    <tr style=\"text-align: right;\">\n",
       "      <th></th>\n",
       "      <th>title</th>\n",
       "      <th>text</th>\n",
       "      <th>date</th>\n",
       "      <th>category</th>\n",
       "      <th>subcategory</th>\n",
       "      <th>link</th>\n",
       "    </tr>\n",
       "  </thead>\n",
       "  <tbody>\n",
       "    <tr>\n",
       "      <th>0</th>\n",
       "      <td>Lula diz que está 'lascado', mas que ainda tem...</td>\n",
       "      <td>Com a possibilidade de uma condenação impedir ...</td>\n",
       "      <td>2017-09-10</td>\n",
       "      <td>poder</td>\n",
       "      <td>NaN</td>\n",
       "      <td>http://www1.folha.uol.com.br/poder/2017/10/192...</td>\n",
       "    </tr>\n",
       "    <tr>\n",
       "      <th>1</th>\n",
       "      <td>'Decidi ser escrava das mulheres que sofrem', ...</td>\n",
       "      <td>Para Oumou Sangaré, cantora e ativista malines...</td>\n",
       "      <td>2017-09-10</td>\n",
       "      <td>ilustrada</td>\n",
       "      <td>NaN</td>\n",
       "      <td>http://www1.folha.uol.com.br/ilustrada/2017/10...</td>\n",
       "    </tr>\n",
       "    <tr>\n",
       "      <th>2</th>\n",
       "      <td>Três reportagens da Folha ganham Prêmio Petrob...</td>\n",
       "      <td>Três reportagens da Folha foram vencedoras do ...</td>\n",
       "      <td>2017-09-10</td>\n",
       "      <td>poder</td>\n",
       "      <td>NaN</td>\n",
       "      <td>http://www1.folha.uol.com.br/poder/2017/10/192...</td>\n",
       "    </tr>\n",
       "    <tr>\n",
       "      <th>3</th>\n",
       "      <td>Filme 'Star Wars: Os Últimos Jedi' ganha trail...</td>\n",
       "      <td>A Disney divulgou na noite desta segunda-feira...</td>\n",
       "      <td>2017-09-10</td>\n",
       "      <td>ilustrada</td>\n",
       "      <td>NaN</td>\n",
       "      <td>http://www1.folha.uol.com.br/ilustrada/2017/10...</td>\n",
       "    </tr>\n",
       "    <tr>\n",
       "      <th>4</th>\n",
       "      <td>CBSS inicia acordos com fintechs e quer 30% do...</td>\n",
       "      <td>O CBSS, banco da holding Elopar dos sócios Bra...</td>\n",
       "      <td>2017-09-10</td>\n",
       "      <td>mercado</td>\n",
       "      <td>NaN</td>\n",
       "      <td>http://www1.folha.uol.com.br/mercado/2017/10/1...</td>\n",
       "    </tr>\n",
       "    <tr>\n",
       "      <th>...</th>\n",
       "      <td>...</td>\n",
       "      <td>...</td>\n",
       "      <td>...</td>\n",
       "      <td>...</td>\n",
       "      <td>...</td>\n",
       "      <td>...</td>\n",
       "    </tr>\n",
       "    <tr>\n",
       "      <th>3403</th>\n",
       "      <td>Bilheterias do Pacaembu estarão fechadas no do...</td>\n",
       "      <td>Não haverá venda de ingressos no Pacaembu na m...</td>\n",
       "      <td>2016-03-12</td>\n",
       "      <td>esporte</td>\n",
       "      <td>NaN</td>\n",
       "      <td>http://www1.folha.uol.com.br/esporte/2016/03/1...</td>\n",
       "    </tr>\n",
       "    <tr>\n",
       "      <th>3404</th>\n",
       "      <td>Contra Palmeiras, São Paulo quer comprovar mud...</td>\n",
       "      <td>Neste domingo (13), os jogadores do São Paulo ...</td>\n",
       "      <td>2016-03-12</td>\n",
       "      <td>esporte</td>\n",
       "      <td>NaN</td>\n",
       "      <td>http://www1.folha.uol.com.br/esporte/2016/03/1...</td>\n",
       "    </tr>\n",
       "    <tr>\n",
       "      <th>3405</th>\n",
       "      <td>Na volta ao Allianz Parque, Palmeiras leva vir...</td>\n",
       "      <td>No primeiro jogo no Allianz Parque após o títu...</td>\n",
       "      <td>2016-02-13</td>\n",
       "      <td>esporte</td>\n",
       "      <td>NaN</td>\n",
       "      <td>http://www1.folha.uol.com.br/esporte/2016/02/1...</td>\n",
       "    </tr>\n",
       "    <tr>\n",
       "      <th>3406</th>\n",
       "      <td>Quem não acredita que pule fora, diz Fernando ...</td>\n",
       "      <td>A crise no Palmeiras aumentou ainda mais neste...</td>\n",
       "      <td>2016-03-27</td>\n",
       "      <td>esporte</td>\n",
       "      <td>NaN</td>\n",
       "      <td>http://www1.folha.uol.com.br/esporte/2016/03/1...</td>\n",
       "    </tr>\n",
       "    <tr>\n",
       "      <th>3407</th>\n",
       "      <td>'Ficou complicado', diz Cuca sobre Palmeiras n...</td>\n",
       "      <td>Derrotado para o Nacional por 1 a 0 em sua est...</td>\n",
       "      <td>2016-03-18</td>\n",
       "      <td>esporte</td>\n",
       "      <td>NaN</td>\n",
       "      <td>http://www1.folha.uol.com.br/esporte/2016/03/1...</td>\n",
       "    </tr>\n",
       "  </tbody>\n",
       "</table>\n",
       "<p>170461 rows × 6 columns</p>\n",
       "</div>"
      ],
      "text/plain": [
       "                                                  title  \\\n",
       "0     Lula diz que está 'lascado', mas que ainda tem...   \n",
       "1     'Decidi ser escrava das mulheres que sofrem', ...   \n",
       "2     Três reportagens da Folha ganham Prêmio Petrob...   \n",
       "3     Filme 'Star Wars: Os Últimos Jedi' ganha trail...   \n",
       "4     CBSS inicia acordos com fintechs e quer 30% do...   \n",
       "...                                                 ...   \n",
       "3403  Bilheterias do Pacaembu estarão fechadas no do...   \n",
       "3404  Contra Palmeiras, São Paulo quer comprovar mud...   \n",
       "3405  Na volta ao Allianz Parque, Palmeiras leva vir...   \n",
       "3406  Quem não acredita que pule fora, diz Fernando ...   \n",
       "3407  'Ficou complicado', diz Cuca sobre Palmeiras n...   \n",
       "\n",
       "                                                   text        date  \\\n",
       "0     Com a possibilidade de uma condenação impedir ...  2017-09-10   \n",
       "1     Para Oumou Sangaré, cantora e ativista malines...  2017-09-10   \n",
       "2     Três reportagens da Folha foram vencedoras do ...  2017-09-10   \n",
       "3     A Disney divulgou na noite desta segunda-feira...  2017-09-10   \n",
       "4     O CBSS, banco da holding Elopar dos sócios Bra...  2017-09-10   \n",
       "...                                                 ...         ...   \n",
       "3403  Não haverá venda de ingressos no Pacaembu na m...  2016-03-12   \n",
       "3404  Neste domingo (13), os jogadores do São Paulo ...  2016-03-12   \n",
       "3405  No primeiro jogo no Allianz Parque após o títu...  2016-02-13   \n",
       "3406  A crise no Palmeiras aumentou ainda mais neste...  2016-03-27   \n",
       "3407  Derrotado para o Nacional por 1 a 0 em sua est...  2016-03-18   \n",
       "\n",
       "       category subcategory                                               link  \n",
       "0         poder         NaN  http://www1.folha.uol.com.br/poder/2017/10/192...  \n",
       "1     ilustrada         NaN  http://www1.folha.uol.com.br/ilustrada/2017/10...  \n",
       "2         poder         NaN  http://www1.folha.uol.com.br/poder/2017/10/192...  \n",
       "3     ilustrada         NaN  http://www1.folha.uol.com.br/ilustrada/2017/10...  \n",
       "4       mercado         NaN  http://www1.folha.uol.com.br/mercado/2017/10/1...  \n",
       "...         ...         ...                                                ...  \n",
       "3403    esporte         NaN  http://www1.folha.uol.com.br/esporte/2016/03/1...  \n",
       "3404    esporte         NaN  http://www1.folha.uol.com.br/esporte/2016/03/1...  \n",
       "3405    esporte         NaN  http://www1.folha.uol.com.br/esporte/2016/02/1...  \n",
       "3406    esporte         NaN  http://www1.folha.uol.com.br/esporte/2016/03/1...  \n",
       "3407    esporte         NaN  http://www1.folha.uol.com.br/esporte/2016/03/1...  \n",
       "\n",
       "[170461 rows x 6 columns]"
      ]
     },
     "execution_count": 27,
     "metadata": {},
     "output_type": "execute_result"
    }
   ],
   "source": [
    "df_new = pd.concat([df_artigos, df_novos_artigos_2], axis=0)\n",
    "df_new"
   ]
  },
  {
   "cell_type": "code",
   "execution_count": 28,
   "id": "7e9f6ce0",
   "metadata": {},
   "outputs": [
    {
     "data": {
      "text/plain": [
       "('2017-10-01', '2015-01-01')"
      ]
     },
     "execution_count": 28,
     "metadata": {},
     "output_type": "execute_result"
    }
   ],
   "source": [
    "df_new.date.max(), df_new.date.min()"
   ]
  },
  {
   "cell_type": "code",
   "execution_count": 29,
   "id": "c4322f80",
   "metadata": {},
   "outputs": [
    {
     "data": {
      "text/plain": [
       "(170461, 6)"
      ]
     },
     "execution_count": 29,
     "metadata": {},
     "output_type": "execute_result"
    }
   ],
   "source": [
    "df_new.shape"
   ]
  },
  {
   "cell_type": "code",
   "execution_count": 30,
   "id": "bf56a7d7",
   "metadata": {},
   "outputs": [
    {
     "data": {
      "text/plain": [
       "array(['poder', 'ilustrada', 'mercado', 'mundo', 'esporte', 'tec',\n",
       "       'cotidiano', 'ambiente', 'equilibrioesaude', 'sobretudo',\n",
       "       'colunas', 'educacao', 'tv', 'banco-de-dados', 'opiniao',\n",
       "       'ciencia', 'paineldoleitor', 'saopaulo', 'ilustrissima',\n",
       "       'seminariosfolha', 'turismo', 'empreendedorsocial', 'serafina',\n",
       "       'asmais', 'o-melhor-de-sao-paulo', 'bbc', 'comida', 'musica',\n",
       "       'folhinha', 'especial', 'treinamento', 'multimidia',\n",
       "       'cenarios-2017', 'topofmind', 'dw', 'ombudsman', 'contas-de-casa',\n",
       "       'mulher', '2016', 'guia-de-livros-discos-filmes',\n",
       "       'treinamentocienciaesaude', 'rfi', 'vice', 'bichos', 'euronews',\n",
       "       'guia-de-livros-filmes-discos', 'infograficos', '2015',\n",
       "       'colunistas', 'opinião', 'as mais', 'educação', 'tvfolha ', 'nan',\n",
       "       'ilustríssima'], dtype=object)"
      ]
     },
     "execution_count": 30,
     "metadata": {},
     "output_type": "execute_result"
    }
   ],
   "source": [
    "df_new.head()\n",
    "df_new.category.unique()"
   ]
  },
  {
   "cell_type": "code",
   "execution_count": 32,
   "id": "40cb31ff",
   "metadata": {},
   "outputs": [
    {
     "data": {
      "text/plain": [
       "((167053, 6), (170461, 6))"
      ]
     },
     "execution_count": 32,
     "metadata": {},
     "output_type": "execute_result"
    }
   ],
   "source": [
    "df_artigos.shape, df_new.shape"
   ]
  },
  {
   "cell_type": "code",
   "execution_count": 47,
   "id": "ddc77523",
   "metadata": {},
   "outputs": [],
   "source": [
    "df_new.drop(index=df_new[df_new.text.isna()].index, inplace=True)\n",
    "df_artigos.drop(index=df_artigos[df_artigos.text.isna()].index, inplace=True)"
   ]
  },
  {
   "cell_type": "code",
   "execution_count": 48,
   "id": "c76d56a0",
   "metadata": {},
   "outputs": [
    {
     "data": {
      "text/plain": [
       "((166288, 6), (169671, 6))"
      ]
     },
     "execution_count": 48,
     "metadata": {},
     "output_type": "execute_result"
    }
   ],
   "source": [
    "df_artigos.shape, df_new.shape"
   ]
  },
  {
   "cell_type": "code",
   "execution_count": 49,
   "id": "b3204a42",
   "metadata": {},
   "outputs": [
    {
     "data": {
      "text/plain": [
       "(10604, 6)"
      ]
     },
     "execution_count": 49,
     "metadata": {},
     "output_type": "execute_result"
    }
   ],
   "source": [
    "filtro = (df_artigos.text.str.lower().str.contains(\"etrobr\"))\n",
    "df_artigos[filtro].shape"
   ]
  },
  {
   "cell_type": "code",
   "execution_count": 50,
   "id": "b3204a42",
   "metadata": {},
   "outputs": [
    {
     "data": {
      "text/plain": [
       "(11353, 6)"
      ]
     },
     "execution_count": 50,
     "metadata": {},
     "output_type": "execute_result"
    }
   ],
   "source": [
    "filtro = (df_new.text.str.lower().str.contains(\"etrobr\"))\n",
    "df_new[filtro].shape"
   ]
  },
  {
   "cell_type": "code",
   "execution_count": 51,
   "id": "a4b0bb69",
   "metadata": {},
   "outputs": [],
   "source": [
    "df_new = df_new[filtro]"
   ]
  },
  {
   "cell_type": "code",
   "execution_count": 52,
   "id": "834192da",
   "metadata": {},
   "outputs": [],
   "source": [
    "df_new = df_new.drop(df_new[df_new.date.isnull()].index)\n"
   ]
  },
  {
   "cell_type": "code",
   "execution_count": 53,
   "id": "a23db172",
   "metadata": {},
   "outputs": [],
   "source": [
    "df_new['date_str'] = df_new.date.convert_dtypes(convert_string=True)"
   ]
  },
  {
   "cell_type": "code",
   "execution_count": 54,
   "metadata": {},
   "outputs": [
    {
     "data": {
      "text/plain": [
       "(11353, 7)"
      ]
     },
     "execution_count": 54,
     "metadata": {},
     "output_type": "execute_result"
    }
   ],
   "source": [
    "df_new.shape"
   ]
  },
  {
   "cell_type": "code",
   "execution_count": 55,
   "id": "467667a5",
   "metadata": {},
   "outputs": [
    {
     "data": {
      "text/html": [
       "<div>\n",
       "<style scoped>\n",
       "    .dataframe tbody tr th:only-of-type {\n",
       "        vertical-align: middle;\n",
       "    }\n",
       "\n",
       "    .dataframe tbody tr th {\n",
       "        vertical-align: top;\n",
       "    }\n",
       "\n",
       "    .dataframe thead th {\n",
       "        text-align: right;\n",
       "    }\n",
       "</style>\n",
       "<table border=\"1\" class=\"dataframe\">\n",
       "  <thead>\n",
       "    <tr style=\"text-align: right;\">\n",
       "      <th></th>\n",
       "      <th>title</th>\n",
       "      <th>text</th>\n",
       "      <th>date</th>\n",
       "      <th>category</th>\n",
       "      <th>subcategory</th>\n",
       "      <th>link</th>\n",
       "      <th>date_str</th>\n",
       "    </tr>\n",
       "  </thead>\n",
       "  <tbody>\n",
       "    <tr>\n",
       "      <th>2</th>\n",
       "      <td>Três reportagens da Folha ganham Prêmio Petrob...</td>\n",
       "      <td>Três reportagens da Folha foram vencedoras do ...</td>\n",
       "      <td>2017-09-10</td>\n",
       "      <td>poder</td>\n",
       "      <td>NaN</td>\n",
       "      <td>http://www1.folha.uol.com.br/poder/2017/10/192...</td>\n",
       "      <td>2017-09-10</td>\n",
       "    </tr>\n",
       "    <tr>\n",
       "      <th>18</th>\n",
       "      <td>Bolsa recua pelo 2º dia com feriado nos EUA; d...</td>\n",
       "      <td>A Bolsa brasileira fechou em baixa nesta segun...</td>\n",
       "      <td>2017-09-10</td>\n",
       "      <td>mercado</td>\n",
       "      <td>NaN</td>\n",
       "      <td>http://www1.folha.uol.com.br/mercado/2017/10/1...</td>\n",
       "      <td>2017-09-10</td>\n",
       "    </tr>\n",
       "    <tr>\n",
       "      <th>21</th>\n",
       "      <td>Moro pede que Lula esclareça se tem os recibos...</td>\n",
       "      <td>O juiz Sergio Moro quer que o ex-presidente Lu...</td>\n",
       "      <td>2017-09-10</td>\n",
       "      <td>poder</td>\n",
       "      <td>NaN</td>\n",
       "      <td>http://www1.folha.uol.com.br/poder/2017/10/192...</td>\n",
       "      <td>2017-09-10</td>\n",
       "    </tr>\n",
       "    <tr>\n",
       "      <th>76</th>\n",
       "      <td>Lula na memória e no coração</td>\n",
       "      <td>A um ano das eleições de 2018, a candidatura d...</td>\n",
       "      <td>2017-09-10</td>\n",
       "      <td>opiniao</td>\n",
       "      <td>NaN</td>\n",
       "      <td>http://www1.folha.uol.com.br/opiniao/2017/10/1...</td>\n",
       "      <td>2017-09-10</td>\n",
       "    </tr>\n",
       "    <tr>\n",
       "      <th>152</th>\n",
       "      <td>Destruindo a ciência brasileira</td>\n",
       "      <td>Neste domingo (8), ia escrever sobre o prêmio ...</td>\n",
       "      <td>2017-08-10</td>\n",
       "      <td>colunas</td>\n",
       "      <td>marcelogleiser</td>\n",
       "      <td>http://www1.folha.uol.com.br/colunas/marcelogl...</td>\n",
       "      <td>2017-08-10</td>\n",
       "    </tr>\n",
       "  </tbody>\n",
       "</table>\n",
       "</div>"
      ],
      "text/plain": [
       "                                                 title  \\\n",
       "2    Três reportagens da Folha ganham Prêmio Petrob...   \n",
       "18   Bolsa recua pelo 2º dia com feriado nos EUA; d...   \n",
       "21   Moro pede que Lula esclareça se tem os recibos...   \n",
       "76                        Lula na memória e no coração   \n",
       "152                    Destruindo a ciência brasileira   \n",
       "\n",
       "                                                  text        date category  \\\n",
       "2    Três reportagens da Folha foram vencedoras do ...  2017-09-10    poder   \n",
       "18   A Bolsa brasileira fechou em baixa nesta segun...  2017-09-10  mercado   \n",
       "21   O juiz Sergio Moro quer que o ex-presidente Lu...  2017-09-10    poder   \n",
       "76   A um ano das eleições de 2018, a candidatura d...  2017-09-10  opiniao   \n",
       "152  Neste domingo (8), ia escrever sobre o prêmio ...  2017-08-10  colunas   \n",
       "\n",
       "        subcategory                                               link  \\\n",
       "2               NaN  http://www1.folha.uol.com.br/poder/2017/10/192...   \n",
       "18              NaN  http://www1.folha.uol.com.br/mercado/2017/10/1...   \n",
       "21              NaN  http://www1.folha.uol.com.br/poder/2017/10/192...   \n",
       "76              NaN  http://www1.folha.uol.com.br/opiniao/2017/10/1...   \n",
       "152  marcelogleiser  http://www1.folha.uol.com.br/colunas/marcelogl...   \n",
       "\n",
       "       date_str  \n",
       "2    2017-09-10  \n",
       "18   2017-09-10  \n",
       "21   2017-09-10  \n",
       "76   2017-09-10  \n",
       "152  2017-08-10  "
      ]
     },
     "execution_count": 55,
     "metadata": {},
     "output_type": "execute_result"
    }
   ],
   "source": [
    "df_new.head()"
   ]
  },
  {
   "cell_type": "code",
   "execution_count": null,
   "id": "81175f7f",
   "metadata": {},
   "outputs": [],
   "source": []
  },
  {
   "cell_type": "code",
   "execution_count": 56,
   "id": "09696409",
   "metadata": {},
   "outputs": [],
   "source": [
    "df_new.text = [limpar_texto(txt) for txt in df_new.text.replace('\\n', ' ').replace('\\t', ' ')]"
   ]
  },
  {
   "cell_type": "code",
   "execution_count": 57,
   "id": "5850afe7",
   "metadata": {},
   "outputs": [
    {
     "data": {
      "text/plain": [
       "(6050786, 532.9680260724037, 9666, 11)"
      ]
     },
     "execution_count": 57,
     "metadata": {},
     "output_type": "execute_result"
    }
   ],
   "source": [
    "contador_palavras(df_new.text)"
   ]
  },
  {
   "cell_type": "code",
   "execution_count": 58,
   "id": "a8102123",
   "metadata": {},
   "outputs": [],
   "source": [
    "df_new.text = [remover_stopwords(txt) for txt in df_new.text]"
   ]
  },
  {
   "cell_type": "code",
   "execution_count": 59,
   "id": "66960724",
   "metadata": {},
   "outputs": [],
   "source": [
    "df_new['date_str'] = pd.to_datetime(df_new.date, errors='coerce')"
   ]
  },
  {
   "cell_type": "code",
   "execution_count": 60,
   "id": "a4456074",
   "metadata": {},
   "outputs": [
    {
     "data": {
      "text/plain": [
       "(11353, 7)"
      ]
     },
     "execution_count": 60,
     "metadata": {},
     "output_type": "execute_result"
    }
   ],
   "source": [
    "df_new = df_new.drop(df_new[df_new.date_str.isnull()].index)\n",
    "df_new.shape"
   ]
  },
  {
   "cell_type": "code",
   "execution_count": 61,
   "id": "5ab39a3e",
   "metadata": {},
   "outputs": [
    {
     "data": {
      "text/plain": [
       "(11353, 7)"
      ]
     },
     "execution_count": 61,
     "metadata": {},
     "output_type": "execute_result"
    }
   ],
   "source": [
    "df_new = df_new.drop(df_new[df_new.text.isnull()].index)\n",
    "df_new.shape"
   ]
  },
  {
   "cell_type": "code",
   "execution_count": 62,
   "id": "58ec1389",
   "metadata": {},
   "outputs": [],
   "source": [
    "df_new.to_csv('articles_por_data_sem_merge.csv', sep='\\t')"
   ]
  },
  {
   "cell_type": "code",
   "execution_count": 63,
   "id": "c21f756f",
   "metadata": {},
   "outputs": [],
   "source": [
    "select_header = ['date', 'title', 'text', 'link']"
   ]
  },
  {
   "cell_type": "code",
   "execution_count": 64,
   "id": "03433c1d",
   "metadata": {},
   "outputs": [],
   "source": [
    "df_dados_etiquetados = pd.read_excel('dados_etiquetados.xlsx', sheet_name='dados', index_col=False)\n",
    "df_articles_por_data_etiquetados = pd.merge(df_new[select_header], df_dados_etiquetados[['title', 'sobre_petrobras_diretamente']], on=['title'], how='left')"
   ]
  },
  {
   "cell_type": "code",
   "execution_count": null,
   "id": "051ceb9e",
   "metadata": {},
   "outputs": [],
   "source": [
    "df_articles_por_data_etiquetados.dropna().to_csv('articles_por_data_etiquetados.csv', sep='\\t', encoding='utf-8')"
   ]
  },
  {
   "cell_type": "code",
   "execution_count": null,
   "id": "a17d80e4",
   "metadata": {},
   "outputs": [],
   "source": [
    "df_articles_petro = df_new[df_new.text.str.contains('Petrobras')]\n",
    "df_articles_petro_grouped = df_new.groupby('date')\n",
    "\n",
    "df_articles_por_data = pd.concat([df_articles_petro_grouped.title.apply(lambda x: ' '.join(x)), df_articles_petro_grouped.text.apply(lambda x: ' '.join(x)), df_articles_petro_grouped.link.apply(lambda x: ' - '.join(x))], axis=1)\n"
   ]
  },
  {
   "cell_type": "code",
   "execution_count": null,
   "id": "93edcd9f",
   "metadata": {},
   "outputs": [],
   "source": [
    "df_articles_por_data_etiquetados.to_csv('articles_per_date.csv', sep='\\t', encoding='utf-8')"
   ]
  },
  {
   "cell_type": "code",
   "execution_count": null,
   "id": "755c5523",
   "metadata": {},
   "outputs": [],
   "source": []
  }
 ],
 "metadata": {
  "kernelspec": {
   "display_name": "Python 3 (ipykernel)",
   "language": "python",
   "name": "python3"
  },
  "language_info": {
   "codemirror_mode": {
    "name": "ipython",
    "version": 3
   },
   "file_extension": ".py",
   "mimetype": "text/x-python",
   "name": "python",
   "nbconvert_exporter": "python",
   "pygments_lexer": "ipython3",
   "version": "3.8.0 (tags/v3.8.0:fa919fd, Oct 14 2019, 19:37:50) [MSC v.1916 64 bit (AMD64)]"
  },
  "vscode": {
   "interpreter": {
    "hash": "95d9a17cd2221a3d2551cd76b8b18fe812ed47b84f4d6a09bd742e36b360b88f"
   }
  }
 },
 "nbformat": 4,
 "nbformat_minor": 5
}
