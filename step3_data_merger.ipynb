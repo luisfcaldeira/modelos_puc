{
 "cells": [
  {
   "cell_type": "code",
   "execution_count": 1,
   "id": "525418c9",
   "metadata": {},
   "outputs": [],
   "source": [
    "import pandas as pd\n",
    "import numpy as np\n",
    "from datetime import date"
   ]
  },
  {
   "cell_type": "code",
   "execution_count": 112,
   "id": "dd90b45a",
   "metadata": {},
   "outputs": [],
   "source": [
    "import datetime\n",
    "\n",
    "\n",
    "pontos_de_corte = 0.01\n",
    "\n",
    "def merge_df(df_articles: pd.DataFrame, df_indices: pd.DataFrame) -> pd.DataFrame:\n",
    "    \n",
    "    clean_texts = [] \n",
    "    dt_temp = df_indices.index.min()\n",
    "\n",
    "    df_articles = df_articles.sort_values('date').copy()\n",
    "\n",
    "    for index, row in df_articles.iterrows():\n",
    "\n",
    "        if not np.isnan(df_indices.reindex([row.date]).COEF_ANTERIOR[0]):\n",
    "            dt_temp = row.date\n",
    "\n",
    "        dt = dt_temp\n",
    "\n",
    "        indice = resolve_indice(df_indices, dt)\n",
    "\n",
    "        row_data = [dt, row.title, row.text, indice, df_indices.reindex([dt]).COMPARATIVO[0], row.link, df_indices.reindex([dt]).COEF[0], df_indices.reindex([dt]).COEF_ANTERIOR[0]]\n",
    "        if('sobre_petrobras_diretamente' in df_articles.keys()):\n",
    "            row_data.append(row.sobre_petrobras_diretamente)\n",
    "\n",
    "        clean_texts.append(row_data)\n",
    "        \n",
    "    header = ['date', 'title', 'text', 'indice', 'comparativo', 'link', 'coef', 'coef_anterior']\n",
    "\n",
    "    if('sobre_petrobras_diretamente' in df_articles.keys()):\n",
    "        header.append('sobre_petrobras_diretamente')\n",
    "\n",
    "    return pd.DataFrame(clean_texts, columns=header)\n",
    "\n",
    "def resolve_indice(df_indices, dt):\n",
    "    if df_indices.reindex([dt]).COMPARATIVO[0] >= pontos_de_corte:\n",
    "        return 1\n",
    "    elif df_indices.reindex([dt]).COMPARATIVO[0] <= (pontos_de_corte * -1):\n",
    "        return -1\n",
    "    else:\n",
    "        return 0"
   ]
  },
  {
   "cell_type": "code",
   "execution_count": 94,
   "id": "23b49510",
   "metadata": {},
   "outputs": [],
   "source": [
    "df_articles = pd.read_csv('articles_per_date.csv', sep='\\t', header=0)\n",
    "df_articles_sem_merge = pd.read_csv('articles_por_data_sem_merge.csv', sep='\\t', header=0)\n",
    "df_articles_etiquetados = pd.read_csv('articles_por_data_etiquetados.csv', sep='\\t', header=0)"
   ]
  },
  {
   "cell_type": "code",
   "execution_count": 95,
   "id": "ab66a78d",
   "metadata": {},
   "outputs": [
    {
     "data": {
      "text/html": [
       "<div>\n",
       "<style scoped>\n",
       "    .dataframe tbody tr th:only-of-type {\n",
       "        vertical-align: middle;\n",
       "    }\n",
       "\n",
       "    .dataframe tbody tr th {\n",
       "        vertical-align: top;\n",
       "    }\n",
       "\n",
       "    .dataframe thead th {\n",
       "        text-align: right;\n",
       "    }\n",
       "</style>\n",
       "<table border=\"1\" class=\"dataframe\">\n",
       "  <thead>\n",
       "    <tr style=\"text-align: right;\">\n",
       "      <th></th>\n",
       "      <th>Unnamed: 0</th>\n",
       "      <th>title</th>\n",
       "      <th>text</th>\n",
       "      <th>date</th>\n",
       "      <th>category</th>\n",
       "      <th>subcategory</th>\n",
       "      <th>link</th>\n",
       "      <th>date_str</th>\n",
       "    </tr>\n",
       "  </thead>\n",
       "  <tbody>\n",
       "    <tr>\n",
       "      <th>0</th>\n",
       "      <td>2</td>\n",
       "      <td>Três reportagens da Folha ganham Prêmio Petrob...</td>\n",
       "      <td>tres reportagens folha vencedoras premio petro...</td>\n",
       "      <td>2017-09-10</td>\n",
       "      <td>poder</td>\n",
       "      <td>NaN</td>\n",
       "      <td>http://www1.folha.uol.com.br/poder/2017/10/192...</td>\n",
       "      <td>2017-09-10</td>\n",
       "    </tr>\n",
       "    <tr>\n",
       "      <th>1</th>\n",
       "      <td>18</td>\n",
       "      <td>Bolsa recua pelo 2º dia com feriado nos EUA; d...</td>\n",
       "      <td>bolsa brasileira fechou baixa nesta segunda mo...</td>\n",
       "      <td>2017-09-10</td>\n",
       "      <td>mercado</td>\n",
       "      <td>NaN</td>\n",
       "      <td>http://www1.folha.uol.com.br/mercado/2017/10/1...</td>\n",
       "      <td>2017-09-10</td>\n",
       "    </tr>\n",
       "    <tr>\n",
       "      <th>2</th>\n",
       "      <td>21</td>\n",
       "      <td>Moro pede que Lula esclareça se tem os recibos...</td>\n",
       "      <td>juiz sergio moro quer expresidente luiz inacio...</td>\n",
       "      <td>2017-09-10</td>\n",
       "      <td>poder</td>\n",
       "      <td>NaN</td>\n",
       "      <td>http://www1.folha.uol.com.br/poder/2017/10/192...</td>\n",
       "      <td>2017-09-10</td>\n",
       "    </tr>\n",
       "    <tr>\n",
       "      <th>3</th>\n",
       "      <td>76</td>\n",
       "      <td>Lula na memória e no coração</td>\n",
       "      <td>ano eleicoes candidatura expresidente luiz ina...</td>\n",
       "      <td>2017-09-10</td>\n",
       "      <td>opiniao</td>\n",
       "      <td>NaN</td>\n",
       "      <td>http://www1.folha.uol.com.br/opiniao/2017/10/1...</td>\n",
       "      <td>2017-09-10</td>\n",
       "    </tr>\n",
       "    <tr>\n",
       "      <th>4</th>\n",
       "      <td>152</td>\n",
       "      <td>Destruindo a ciência brasileira</td>\n",
       "      <td>neste domingo ia escrever sobre premio nobel f...</td>\n",
       "      <td>2017-08-10</td>\n",
       "      <td>colunas</td>\n",
       "      <td>marcelogleiser</td>\n",
       "      <td>http://www1.folha.uol.com.br/colunas/marcelogl...</td>\n",
       "      <td>2017-08-10</td>\n",
       "    </tr>\n",
       "  </tbody>\n",
       "</table>\n",
       "</div>"
      ],
      "text/plain": [
       "   Unnamed: 0                                              title  \\\n",
       "0           2  Três reportagens da Folha ganham Prêmio Petrob...   \n",
       "1          18  Bolsa recua pelo 2º dia com feriado nos EUA; d...   \n",
       "2          21  Moro pede que Lula esclareça se tem os recibos...   \n",
       "3          76                       Lula na memória e no coração   \n",
       "4         152                    Destruindo a ciência brasileira   \n",
       "\n",
       "                                                text        date category  \\\n",
       "0  tres reportagens folha vencedoras premio petro...  2017-09-10    poder   \n",
       "1  bolsa brasileira fechou baixa nesta segunda mo...  2017-09-10  mercado   \n",
       "2  juiz sergio moro quer expresidente luiz inacio...  2017-09-10    poder   \n",
       "3  ano eleicoes candidatura expresidente luiz ina...  2017-09-10  opiniao   \n",
       "4  neste domingo ia escrever sobre premio nobel f...  2017-08-10  colunas   \n",
       "\n",
       "      subcategory                                               link  \\\n",
       "0             NaN  http://www1.folha.uol.com.br/poder/2017/10/192...   \n",
       "1             NaN  http://www1.folha.uol.com.br/mercado/2017/10/1...   \n",
       "2             NaN  http://www1.folha.uol.com.br/poder/2017/10/192...   \n",
       "3             NaN  http://www1.folha.uol.com.br/opiniao/2017/10/1...   \n",
       "4  marcelogleiser  http://www1.folha.uol.com.br/colunas/marcelogl...   \n",
       "\n",
       "     date_str  \n",
       "0  2017-09-10  \n",
       "1  2017-09-10  \n",
       "2  2017-09-10  \n",
       "3  2017-09-10  \n",
       "4  2017-08-10  "
      ]
     },
     "execution_count": 95,
     "metadata": {},
     "output_type": "execute_result"
    }
   ],
   "source": [
    "df_articles_sem_merge.head()"
   ]
  },
  {
   "cell_type": "markdown",
   "id": "6cf2fa2a",
   "metadata": {},
   "source": [
    "Convert para data"
   ]
  },
  {
   "cell_type": "code",
   "execution_count": 96,
   "id": "68cf68fa",
   "metadata": {},
   "outputs": [],
   "source": [
    "df_datas = pd.to_datetime(df_articles.date)\n",
    "df_articles.date = df_datas\n",
    "\n",
    "df_datas = pd.to_datetime(df_articles_sem_merge.date)\n",
    "df_articles_sem_merge.date = df_datas"
   ]
  },
  {
   "cell_type": "code",
   "execution_count": 37,
   "id": "f2f8c4de",
   "metadata": {},
   "outputs": [
    {
     "name": "stdout",
     "output_type": "stream",
     "text": [
      "<class 'pandas.core.series.Series'>\n",
      "RangeIndex: 11353 entries, 0 to 11352\n",
      "Series name: date\n",
      "Non-Null Count  Dtype         \n",
      "--------------  -----         \n",
      "11353 non-null  datetime64[ns]\n",
      "dtypes: datetime64[ns](1)\n",
      "memory usage: 88.8 KB\n"
     ]
    }
   ],
   "source": [
    "df_articles_sem_merge.date.info()"
   ]
  },
  {
   "cell_type": "markdown",
   "id": "848cdbe6",
   "metadata": {},
   "source": [
    "Importa índices"
   ]
  },
  {
   "cell_type": "code",
   "execution_count": 38,
   "id": "3496b80d",
   "metadata": {},
   "outputs": [],
   "source": [
    "df_indices = pd.read_excel('indices_per_date.xlsx', index_col=0)"
   ]
  },
  {
   "cell_type": "code",
   "execution_count": 97,
   "id": "2f5d587f",
   "metadata": {},
   "outputs": [
    {
     "data": {
      "text/plain": [
       "False"
      ]
     },
     "execution_count": 97,
     "metadata": {},
     "output_type": "execute_result"
    }
   ],
   "source": [
    "np.isnan(df_indices.reindex(['2015-01-02']).COEF_ANTERIOR[0])"
   ]
  },
  {
   "cell_type": "code",
   "execution_count": 98,
   "id": "4e29b465",
   "metadata": {},
   "outputs": [
    {
     "data": {
      "text/plain": [
       "(Timestamp('2015-01-02 00:00:00'), Timestamp('2022-06-29 00:00:00'))"
      ]
     },
     "execution_count": 98,
     "metadata": {},
     "output_type": "execute_result"
    }
   ],
   "source": [
    "df_indices.index.min(), df_indices.index.max()"
   ]
  },
  {
   "cell_type": "code",
   "execution_count": 99,
   "id": "4607d6c1",
   "metadata": {},
   "outputs": [
    {
     "data": {
      "text/html": [
       "<div>\n",
       "<style scoped>\n",
       "    .dataframe tbody tr th:only-of-type {\n",
       "        vertical-align: middle;\n",
       "    }\n",
       "\n",
       "    .dataframe tbody tr th {\n",
       "        vertical-align: top;\n",
       "    }\n",
       "\n",
       "    .dataframe thead th {\n",
       "        text-align: right;\n",
       "    }\n",
       "</style>\n",
       "<table border=\"1\" class=\"dataframe\">\n",
       "  <thead>\n",
       "    <tr style=\"text-align: right;\">\n",
       "      <th></th>\n",
       "      <th>Unnamed: 0</th>\n",
       "      <th>title</th>\n",
       "      <th>text</th>\n",
       "      <th>date</th>\n",
       "      <th>category</th>\n",
       "      <th>subcategory</th>\n",
       "      <th>link</th>\n",
       "      <th>date_str</th>\n",
       "    </tr>\n",
       "  </thead>\n",
       "  <tbody>\n",
       "    <tr>\n",
       "      <th>0</th>\n",
       "      <td>2</td>\n",
       "      <td>Três reportagens da Folha ganham Prêmio Petrob...</td>\n",
       "      <td>tres reportagens folha vencedoras premio petro...</td>\n",
       "      <td>2017-09-10</td>\n",
       "      <td>poder</td>\n",
       "      <td>NaN</td>\n",
       "      <td>http://www1.folha.uol.com.br/poder/2017/10/192...</td>\n",
       "      <td>2017-09-10</td>\n",
       "    </tr>\n",
       "    <tr>\n",
       "      <th>1</th>\n",
       "      <td>18</td>\n",
       "      <td>Bolsa recua pelo 2º dia com feriado nos EUA; d...</td>\n",
       "      <td>bolsa brasileira fechou baixa nesta segunda mo...</td>\n",
       "      <td>2017-09-10</td>\n",
       "      <td>mercado</td>\n",
       "      <td>NaN</td>\n",
       "      <td>http://www1.folha.uol.com.br/mercado/2017/10/1...</td>\n",
       "      <td>2017-09-10</td>\n",
       "    </tr>\n",
       "    <tr>\n",
       "      <th>2</th>\n",
       "      <td>21</td>\n",
       "      <td>Moro pede que Lula esclareça se tem os recibos...</td>\n",
       "      <td>juiz sergio moro quer expresidente luiz inacio...</td>\n",
       "      <td>2017-09-10</td>\n",
       "      <td>poder</td>\n",
       "      <td>NaN</td>\n",
       "      <td>http://www1.folha.uol.com.br/poder/2017/10/192...</td>\n",
       "      <td>2017-09-10</td>\n",
       "    </tr>\n",
       "    <tr>\n",
       "      <th>3</th>\n",
       "      <td>76</td>\n",
       "      <td>Lula na memória e no coração</td>\n",
       "      <td>ano eleicoes candidatura expresidente luiz ina...</td>\n",
       "      <td>2017-09-10</td>\n",
       "      <td>opiniao</td>\n",
       "      <td>NaN</td>\n",
       "      <td>http://www1.folha.uol.com.br/opiniao/2017/10/1...</td>\n",
       "      <td>2017-09-10</td>\n",
       "    </tr>\n",
       "    <tr>\n",
       "      <th>4</th>\n",
       "      <td>152</td>\n",
       "      <td>Destruindo a ciência brasileira</td>\n",
       "      <td>neste domingo ia escrever sobre premio nobel f...</td>\n",
       "      <td>2017-08-10</td>\n",
       "      <td>colunas</td>\n",
       "      <td>marcelogleiser</td>\n",
       "      <td>http://www1.folha.uol.com.br/colunas/marcelogl...</td>\n",
       "      <td>2017-08-10</td>\n",
       "    </tr>\n",
       "  </tbody>\n",
       "</table>\n",
       "</div>"
      ],
      "text/plain": [
       "   Unnamed: 0                                              title  \\\n",
       "0           2  Três reportagens da Folha ganham Prêmio Petrob...   \n",
       "1          18  Bolsa recua pelo 2º dia com feriado nos EUA; d...   \n",
       "2          21  Moro pede que Lula esclareça se tem os recibos...   \n",
       "3          76                       Lula na memória e no coração   \n",
       "4         152                    Destruindo a ciência brasileira   \n",
       "\n",
       "                                                text       date category  \\\n",
       "0  tres reportagens folha vencedoras premio petro... 2017-09-10    poder   \n",
       "1  bolsa brasileira fechou baixa nesta segunda mo... 2017-09-10  mercado   \n",
       "2  juiz sergio moro quer expresidente luiz inacio... 2017-09-10    poder   \n",
       "3  ano eleicoes candidatura expresidente luiz ina... 2017-09-10  opiniao   \n",
       "4  neste domingo ia escrever sobre premio nobel f... 2017-08-10  colunas   \n",
       "\n",
       "      subcategory                                               link  \\\n",
       "0             NaN  http://www1.folha.uol.com.br/poder/2017/10/192...   \n",
       "1             NaN  http://www1.folha.uol.com.br/mercado/2017/10/1...   \n",
       "2             NaN  http://www1.folha.uol.com.br/poder/2017/10/192...   \n",
       "3             NaN  http://www1.folha.uol.com.br/opiniao/2017/10/1...   \n",
       "4  marcelogleiser  http://www1.folha.uol.com.br/colunas/marcelogl...   \n",
       "\n",
       "     date_str  \n",
       "0  2017-09-10  \n",
       "1  2017-09-10  \n",
       "2  2017-09-10  \n",
       "3  2017-09-10  \n",
       "4  2017-08-10  "
      ]
     },
     "execution_count": 99,
     "metadata": {},
     "output_type": "execute_result"
    }
   ],
   "source": [
    "df_articles_sem_merge.head()"
   ]
  },
  {
   "cell_type": "code",
   "execution_count": 100,
   "id": "190af22d",
   "metadata": {},
   "outputs": [],
   "source": [
    "df_articles_sem_merge.to_csv('labeled_articles_sem_merge.csv', sep='\\t')"
   ]
  },
  {
   "cell_type": "code",
   "execution_count": 101,
   "id": "5ba2ce0d",
   "metadata": {},
   "outputs": [
    {
     "data": {
      "text/html": [
       "<div>\n",
       "<style scoped>\n",
       "    .dataframe tbody tr th:only-of-type {\n",
       "        vertical-align: middle;\n",
       "    }\n",
       "\n",
       "    .dataframe tbody tr th {\n",
       "        vertical-align: top;\n",
       "    }\n",
       "\n",
       "    .dataframe thead th {\n",
       "        text-align: right;\n",
       "    }\n",
       "</style>\n",
       "<table border=\"1\" class=\"dataframe\">\n",
       "  <thead>\n",
       "    <tr style=\"text-align: right;\">\n",
       "      <th></th>\n",
       "      <th>Unnamed: 0</th>\n",
       "      <th>date</th>\n",
       "      <th>title</th>\n",
       "      <th>text</th>\n",
       "      <th>link</th>\n",
       "      <th>sobre_petrobras_diretamente</th>\n",
       "    </tr>\n",
       "  </thead>\n",
       "  <tbody>\n",
       "    <tr>\n",
       "      <th>0</th>\n",
       "      <td>1480</td>\n",
       "      <td>2016-05-12</td>\n",
       "      <td>Após dois cortes, Petrobras eleva preços da ga...</td>\n",
       "      <td>mal consumidor sentiu bolso impacto duas reduc...</td>\n",
       "      <td>http://www1.folha.uol.com.br/mercado/2016/12/1...</td>\n",
       "      <td>Relacionado à Petrobrás</td>\n",
       "    </tr>\n",
       "    <tr>\n",
       "      <th>1</th>\n",
       "      <td>1481</td>\n",
       "      <td>2016-05-12</td>\n",
       "      <td>Liminar da Justiça de Sergipe suspende venda d...</td>\n",
       "      <td>vara justica federal sergipe determinou suspen...</td>\n",
       "      <td>http://www1.folha.uol.com.br/mercado/2016/12/1...</td>\n",
       "      <td>Relacionado ao mercado de ações</td>\n",
       "    </tr>\n",
       "    <tr>\n",
       "      <th>2</th>\n",
       "      <td>1483</td>\n",
       "      <td>2016-05-12</td>\n",
       "      <td>Dólar recua mais de 1% após protestos pouparem...</td>\n",
       "      <td>real maiores valorizacoes principais moedas ne...</td>\n",
       "      <td>http://www1.folha.uol.com.br/mercado/2016/12/1...</td>\n",
       "      <td>Relacionado ao mercado de ações</td>\n",
       "    </tr>\n",
       "    <tr>\n",
       "      <th>3</th>\n",
       "      <td>1491</td>\n",
       "      <td>2016-04-12</td>\n",
       "      <td>Metade das empresas não tem caixa para pagar d...</td>\n",
       "      <td>prolongada crise economica pais atravessa mina...</td>\n",
       "      <td>http://www1.folha.uol.com.br/mercado/2016/12/1...</td>\n",
       "      <td>Não relacionado ou não relacionado diretamente</td>\n",
       "    </tr>\n",
       "    <tr>\n",
       "      <th>4</th>\n",
       "      <td>1646</td>\n",
       "      <td>2016-05-11</td>\n",
       "      <td>Governo busca executivo experiente para o coma...</td>\n",
       "      <td>sob pressao pmdb camara deputados trocar coman...</td>\n",
       "      <td>http://www1.folha.uol.com.br/mercado/2016/11/1...</td>\n",
       "      <td>Não relacionado ou não relacionado diretamente</td>\n",
       "    </tr>\n",
       "  </tbody>\n",
       "</table>\n",
       "</div>"
      ],
      "text/plain": [
       "   Unnamed: 0        date                                              title  \\\n",
       "0        1480  2016-05-12  Após dois cortes, Petrobras eleva preços da ga...   \n",
       "1        1481  2016-05-12  Liminar da Justiça de Sergipe suspende venda d...   \n",
       "2        1483  2016-05-12  Dólar recua mais de 1% após protestos pouparem...   \n",
       "3        1491  2016-04-12  Metade das empresas não tem caixa para pagar d...   \n",
       "4        1646  2016-05-11  Governo busca executivo experiente para o coma...   \n",
       "\n",
       "                                                text  \\\n",
       "0  mal consumidor sentiu bolso impacto duas reduc...   \n",
       "1  vara justica federal sergipe determinou suspen...   \n",
       "2  real maiores valorizacoes principais moedas ne...   \n",
       "3  prolongada crise economica pais atravessa mina...   \n",
       "4  sob pressao pmdb camara deputados trocar coman...   \n",
       "\n",
       "                                                link  \\\n",
       "0  http://www1.folha.uol.com.br/mercado/2016/12/1...   \n",
       "1  http://www1.folha.uol.com.br/mercado/2016/12/1...   \n",
       "2  http://www1.folha.uol.com.br/mercado/2016/12/1...   \n",
       "3  http://www1.folha.uol.com.br/mercado/2016/12/1...   \n",
       "4  http://www1.folha.uol.com.br/mercado/2016/11/1...   \n",
       "\n",
       "                      sobre_petrobras_diretamente  \n",
       "0                         Relacionado à Petrobrás  \n",
       "1                 Relacionado ao mercado de ações  \n",
       "2                 Relacionado ao mercado de ações  \n",
       "3  Não relacionado ou não relacionado diretamente  \n",
       "4  Não relacionado ou não relacionado diretamente  "
      ]
     },
     "execution_count": 101,
     "metadata": {},
     "output_type": "execute_result"
    }
   ],
   "source": [
    "df_articles_etiquetados.head()"
   ]
  },
  {
   "cell_type": "code",
   "execution_count": 102,
   "id": "07436a16",
   "metadata": {},
   "outputs": [
    {
     "data": {
      "text/plain": [
       "(Timestamp('2015-01-01 00:00:00'), Timestamp('2017-10-01 00:00:00'))"
      ]
     },
     "execution_count": 102,
     "metadata": {},
     "output_type": "execute_result"
    }
   ],
   "source": [
    "df_articles_sem_merge.date.min(), df_articles_sem_merge.date.max()"
   ]
  },
  {
   "cell_type": "code",
   "execution_count": 103,
   "id": "2f6ebfeb",
   "metadata": {},
   "outputs": [],
   "source": [
    "# df_merged = merge_df(df_articles, df_indices)"
   ]
  },
  {
   "cell_type": "code",
   "execution_count": 113,
   "id": "2f6ebfeb",
   "metadata": {},
   "outputs": [],
   "source": [
    "df_sem_merge_dos_artigos = merge_df(df_articles_sem_merge, df_indices)"
   ]
  },
  {
   "cell_type": "code",
   "execution_count": 114,
   "id": "aef290c1",
   "metadata": {},
   "outputs": [
    {
     "data": {
      "text/html": [
       "<div>\n",
       "<style scoped>\n",
       "    .dataframe tbody tr th:only-of-type {\n",
       "        vertical-align: middle;\n",
       "    }\n",
       "\n",
       "    .dataframe tbody tr th {\n",
       "        vertical-align: top;\n",
       "    }\n",
       "\n",
       "    .dataframe thead th {\n",
       "        text-align: right;\n",
       "    }\n",
       "</style>\n",
       "<table border=\"1\" class=\"dataframe\">\n",
       "  <thead>\n",
       "    <tr style=\"text-align: right;\">\n",
       "      <th></th>\n",
       "      <th>date</th>\n",
       "      <th>title</th>\n",
       "      <th>text</th>\n",
       "      <th>indice</th>\n",
       "      <th>comparativo</th>\n",
       "      <th>link</th>\n",
       "      <th>coef</th>\n",
       "      <th>coef_anterior</th>\n",
       "    </tr>\n",
       "  </thead>\n",
       "  <tbody>\n",
       "  </tbody>\n",
       "</table>\n",
       "</div>"
      ],
      "text/plain": [
       "Empty DataFrame\n",
       "Columns: [date, title, text, indice, comparativo, link, coef, coef_anterior]\n",
       "Index: []"
      ]
     },
     "execution_count": 114,
     "metadata": {},
     "output_type": "execute_result"
    }
   ],
   "source": [
    "df_sem_merge_dos_artigos[df_sem_merge_dos_artigos.coef.isna()]"
   ]
  },
  {
   "cell_type": "code",
   "execution_count": 115,
   "id": "d4384bbd",
   "metadata": {},
   "outputs": [
    {
     "data": {
      "text/plain": [
       "((0, 8), (11353, 8))"
      ]
     },
     "execution_count": 115,
     "metadata": {},
     "output_type": "execute_result"
    }
   ],
   "source": [
    "df_sem_merge_dos_artigos[df_sem_merge_dos_artigos.coef.isna()].shape, df_sem_merge_dos_artigos.shape"
   ]
  },
  {
   "cell_type": "code",
   "execution_count": 116,
   "id": "ed13d759",
   "metadata": {},
   "outputs": [
    {
     "data": {
      "text/plain": [
       "(5437, 5590, 326)"
      ]
     },
     "execution_count": 116,
     "metadata": {},
     "output_type": "execute_result"
    }
   ],
   "source": [
    "len(df_sem_merge_dos_artigos[df_sem_merge_dos_artigos.indice == 1]), len(df_sem_merge_dos_artigos[df_sem_merge_dos_artigos.indice == -1]), len(df_sem_merge_dos_artigos[df_sem_merge_dos_artigos.indice == 0])"
   ]
  },
  {
   "cell_type": "code",
   "execution_count": 119,
   "id": "5284761a",
   "metadata": {},
   "outputs": [
    {
     "data": {
      "text/plain": [
       "((1927, 8), (11353, 8))"
      ]
     },
     "execution_count": 119,
     "metadata": {},
     "output_type": "execute_result"
    }
   ],
   "source": [
    "df_sem_merge_dos_artigos[df_sem_merge_dos_artigos.title.str.contains('etrobras')].shape, df_sem_merge_dos_artigos.shape"
   ]
  },
  {
   "cell_type": "code",
   "execution_count": 117,
   "id": "a129950b",
   "metadata": {},
   "outputs": [],
   "source": [
    "df_sem_merge_dos_artigos.to_csv('labeled_articles_sem_merge_data.csv', sep='\\t', index=True)"
   ]
  }
 ],
 "metadata": {
  "kernelspec": {
   "display_name": "Python 3 (ipykernel)",
   "language": "python",
   "name": "python3"
  },
  "language_info": {
   "codemirror_mode": {
    "name": "ipython",
    "version": 3
   },
   "file_extension": ".py",
   "mimetype": "text/x-python",
   "name": "python",
   "nbconvert_exporter": "python",
   "pygments_lexer": "ipython3",
   "version": "3.8.0"
  },
  "vscode": {
   "interpreter": {
    "hash": "95d9a17cd2221a3d2551cd76b8b18fe812ed47b84f4d6a09bd742e36b360b88f"
   }
  }
 },
 "nbformat": 4,
 "nbformat_minor": 5
}
