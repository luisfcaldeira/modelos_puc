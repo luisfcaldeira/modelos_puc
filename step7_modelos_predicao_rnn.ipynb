{
 "cells": [
  {
   "cell_type": "code",
   "execution_count": 29,
   "metadata": {
    "id": "fFYSrAcd43NT"
   },
   "outputs": [],
   "source": [
    "import numpy as np\n",
    "\n",
    "import tensorflow as tf\n",
    "import matplotlib.pyplot as plt\n",
    "import pandas as pd\n",
    "from sklearn.model_selection import train_test_split\n",
    "import pathlib\n",
    "from keras.utils import np_utils\n"
   ]
  },
  {
   "cell_type": "code",
   "execution_count": 30,
   "metadata": {
    "id": "rln09XCY4-X1"
   },
   "outputs": [],
   "source": [
    "def plot_graphs(history, metric):\n",
    "    plt.plot(history.history[metric])\n",
    "    plt.plot(history.history['val_'+metric], '')\n",
    "    plt.xlabel(\"Epochs\")\n",
    "    plt.ylabel(metric)\n",
    "    plt.legend([metric, 'val_'+metric])\n",
    "\n",
    "def convert_to_discrete(texto):\n",
    "    i, = np.where(categories == texto) \n",
    "    return i[0]"
   ]
  },
  {
   "cell_type": "code",
   "execution_count": 31,
   "metadata": {},
   "outputs": [],
   "source": [
    "def convert_long_label_in_model_label(list_of_label_test):\n",
    "    result = []\n",
    "    for element in list_of_label_test:\n",
    "        line = [0.0, 0.0, 0.0]\n",
    "        line[element] = 1.0\n",
    "        result.append(line)\n",
    "    return np.array(result)"
   ]
  },
  {
   "cell_type": "code",
   "execution_count": 64,
   "metadata": {},
   "outputs": [],
   "source": [
    "def plot_history(history) :\n",
    "    plt.figure(figsize=(16, 8))\n",
    "    plt.subplot(1, 2, 1)\n",
    "    plot_graphs(history, 'accuracy')\n",
    "    plt.ylim(None, 1)\n",
    "    plt.subplot(1, 2, 2)\n",
    "    plot_graphs(history, 'loss')\n",
    "    plt.ylim(0, None)\n",
    "    \n",
    "def compara(predito, real):\n",
    "    predicao = conserta_predicao(predito)\n",
    "    for j in range(0, len(predicao)):\n",
    "        if predicao[j] != real[j]:\n",
    "            return False\n",
    "    return True\n",
    "\n",
    "def conserta_predicao(predito):\n",
    "    maior = 0\n",
    "    anterior = -1000\n",
    "    for i in range(0, len(predito)):\n",
    "        if predito[i] > anterior:\n",
    "            maior = i\n",
    "            anterior = predito[i]\n",
    "\n",
    "    predicao = [0 for i in range(0, len(predito))]\n",
    "    predicao[maior] = 1\n",
    "    return predicao\n"
   ]
  },
  {
   "cell_type": "code",
   "execution_count": 33,
   "metadata": {
    "id": "kR6yGVmW5dJ7"
   },
   "outputs": [],
   "source": [
    "LABELED_DATA = \"../stemmed_words/labeled_and_stemmed_articles_com_etiquetas.csv\"\n",
    "# PREPARED_DATA_FOR_TF = \"labeled_articles_prepared.csv\"\n",
    "\n",
    "\n",
    "df_news = pd.read_csv(LABELED_DATA, sep='\\t')\n"
   ]
  },
  {
   "cell_type": "code",
   "execution_count": 34,
   "metadata": {},
   "outputs": [],
   "source": [
    "df_news = df_news[\n",
    "        (df_news.etiqueta == 'Relacionado à Petrobrás')\n",
    "        | (df_news.etiqueta == 'Relacionado ao mercado de ações')\n",
    "        | (df_news.etiqueta == 'Relacionado à estatais, governo e políticas públicas')\n",
    "        | (df_news.etiqueta == 'Relacionado ao setor de petróleo ou energia')\n",
    "    ]"
   ]
  },
  {
   "cell_type": "code",
   "execution_count": 35,
   "metadata": {},
   "outputs": [
    {
     "data": {
      "text/html": [
       "<div>\n",
       "<style scoped>\n",
       "    .dataframe tbody tr th:only-of-type {\n",
       "        vertical-align: middle;\n",
       "    }\n",
       "\n",
       "    .dataframe tbody tr th {\n",
       "        vertical-align: top;\n",
       "    }\n",
       "\n",
       "    .dataframe thead th {\n",
       "        text-align: right;\n",
       "    }\n",
       "</style>\n",
       "<table border=\"1\" class=\"dataframe\">\n",
       "  <thead>\n",
       "    <tr style=\"text-align: right;\">\n",
       "      <th></th>\n",
       "      <th>date</th>\n",
       "      <th>title</th>\n",
       "      <th>text</th>\n",
       "      <th>indice</th>\n",
       "      <th>comparativo</th>\n",
       "      <th>link</th>\n",
       "      <th>coef</th>\n",
       "      <th>coef_anterior</th>\n",
       "      <th>stemm</th>\n",
       "      <th>etiqueta</th>\n",
       "    </tr>\n",
       "  </thead>\n",
       "  <tbody>\n",
       "    <tr>\n",
       "      <th>5</th>\n",
       "      <td>2016-04-01</td>\n",
       "      <td>Bolsa sobe 18% e dólar recua mais de 6% na sem...</td>\n",
       "      <td>euforia mercado financeiro brasileiro continuo...</td>\n",
       "      <td>-1</td>\n",
       "      <td>-0.056061</td>\n",
       "      <td>http://www1.folha.uol.com.br/mercado/2016/03/1...</td>\n",
       "      <td>0.0</td>\n",
       "      <td>0.056061</td>\n",
       "      <td>acion aprov nest quintaf reserv milho event pa...</td>\n",
       "      <td>Relacionado ao mercado de ações</td>\n",
       "    </tr>\n",
       "    <tr>\n",
       "      <th>7</th>\n",
       "      <td>2016-04-01</td>\n",
       "      <td>Não havia como Lula não saber de desvios na Pe...</td>\n",
       "      <td>pedido busca apreensao contra expresidente lui...</td>\n",
       "      <td>-1</td>\n",
       "      <td>-0.056061</td>\n",
       "      <td>http://www1.folha.uol.com.br/poder/2016/03/174...</td>\n",
       "      <td>0.0</td>\n",
       "      <td>0.056061</td>\n",
       "      <td>acion hidreletr bel mont send constru aprov ab...</td>\n",
       "      <td>Relacionado à Petrobrás</td>\n",
       "    </tr>\n",
       "    <tr>\n",
       "      <th>14</th>\n",
       "      <td>2016-04-01</td>\n",
       "      <td>Esqueleto de ações trabalhistas de R$ 30 bilhõ...</td>\n",
       "      <td>meio maior crise financeira historia petrobras...</td>\n",
       "      <td>-1</td>\n",
       "      <td>-0.056061</td>\n",
       "      <td>http://www1.folha.uol.com.br/mercado/2016/03/1...</td>\n",
       "      <td>0.0</td>\n",
       "      <td>0.056061</td>\n",
       "      <td>aco ordin jb mai empr aliment mund fech qued n...</td>\n",
       "      <td>Relacionado à Petrobrás</td>\n",
       "    </tr>\n",
       "    <tr>\n",
       "      <th>15</th>\n",
       "      <td>2016-04-01</td>\n",
       "      <td>Há indício de que Lula recebeu verba desviada ...</td>\n",
       "      <td>manifestacao contundente desde inicio operacao...</td>\n",
       "      <td>-1</td>\n",
       "      <td>-0.056061</td>\n",
       "      <td>http://www1.folha.uol.com.br/poder/2016/03/174...</td>\n",
       "      <td>0.0</td>\n",
       "      <td>0.056061</td>\n",
       "      <td>acord delaca premi expresid transpetr sergi ma...</td>\n",
       "      <td>Relacionado à estatais, governo e políticas pú...</td>\n",
       "    </tr>\n",
       "    <tr>\n",
       "      <th>21</th>\n",
       "      <td>2016-04-01</td>\n",
       "      <td>Dólar cai a R$ 3,72 e Bolsa sobe com ação da P...</td>\n",
       "      <td>segundo dia seguido mercado financeiro brasile...</td>\n",
       "      <td>-1</td>\n",
       "      <td>-0.056061</td>\n",
       "      <td>http://www1.folha.uol.com.br/mercado/2016/03/1...</td>\n",
       "      <td>0.0</td>\n",
       "      <td>0.056061</td>\n",
       "      <td>acord renegociaca div bilho odebrecht agroindu...</td>\n",
       "      <td>Relacionado ao mercado de ações</td>\n",
       "    </tr>\n",
       "  </tbody>\n",
       "</table>\n",
       "</div>"
      ],
      "text/plain": [
       "          date                                              title  \\\n",
       "5   2016-04-01  Bolsa sobe 18% e dólar recua mais de 6% na sem...   \n",
       "7   2016-04-01  Não havia como Lula não saber de desvios na Pe...   \n",
       "14  2016-04-01  Esqueleto de ações trabalhistas de R$ 30 bilhõ...   \n",
       "15  2016-04-01  Há indício de que Lula recebeu verba desviada ...   \n",
       "21  2016-04-01  Dólar cai a R$ 3,72 e Bolsa sobe com ação da P...   \n",
       "\n",
       "                                                 text  indice  comparativo  \\\n",
       "5   euforia mercado financeiro brasileiro continuo...      -1    -0.056061   \n",
       "7   pedido busca apreensao contra expresidente lui...      -1    -0.056061   \n",
       "14  meio maior crise financeira historia petrobras...      -1    -0.056061   \n",
       "15  manifestacao contundente desde inicio operacao...      -1    -0.056061   \n",
       "21  segundo dia seguido mercado financeiro brasile...      -1    -0.056061   \n",
       "\n",
       "                                                 link  coef  coef_anterior  \\\n",
       "5   http://www1.folha.uol.com.br/mercado/2016/03/1...   0.0       0.056061   \n",
       "7   http://www1.folha.uol.com.br/poder/2016/03/174...   0.0       0.056061   \n",
       "14  http://www1.folha.uol.com.br/mercado/2016/03/1...   0.0       0.056061   \n",
       "15  http://www1.folha.uol.com.br/poder/2016/03/174...   0.0       0.056061   \n",
       "21  http://www1.folha.uol.com.br/mercado/2016/03/1...   0.0       0.056061   \n",
       "\n",
       "                                                stemm  \\\n",
       "5   acion aprov nest quintaf reserv milho event pa...   \n",
       "7   acion hidreletr bel mont send constru aprov ab...   \n",
       "14  aco ordin jb mai empr aliment mund fech qued n...   \n",
       "15  acord delaca premi expresid transpetr sergi ma...   \n",
       "21  acord renegociaca div bilho odebrecht agroindu...   \n",
       "\n",
       "                                             etiqueta  \n",
       "5                     Relacionado ao mercado de ações  \n",
       "7                             Relacionado à Petrobrás  \n",
       "14                            Relacionado à Petrobrás  \n",
       "15  Relacionado à estatais, governo e políticas pú...  \n",
       "21                    Relacionado ao mercado de ações  "
      ]
     },
     "execution_count": 35,
     "metadata": {},
     "output_type": "execute_result"
    }
   ],
   "source": [
    "df_news.head()"
   ]
  },
  {
   "cell_type": "code",
   "execution_count": 36,
   "metadata": {},
   "outputs": [],
   "source": [
    "df_news['arr'] = df_news.text.str.split(' ').tolist()\n"
   ]
  },
  {
   "cell_type": "code",
   "execution_count": 37,
   "metadata": {},
   "outputs": [],
   "source": [
    "arr_result = []\n",
    "for i, item in df_news.iterrows():\n",
    "    arr_result.append(len(item.arr))\n",
    "\n",
    "df_news['arr_size'] = arr_result"
   ]
  },
  {
   "cell_type": "code",
   "execution_count": 38,
   "metadata": {},
   "outputs": [
    {
     "data": {
      "text/html": [
       "<div>\n",
       "<style scoped>\n",
       "    .dataframe tbody tr th:only-of-type {\n",
       "        vertical-align: middle;\n",
       "    }\n",
       "\n",
       "    .dataframe tbody tr th {\n",
       "        vertical-align: top;\n",
       "    }\n",
       "\n",
       "    .dataframe thead th {\n",
       "        text-align: right;\n",
       "    }\n",
       "</style>\n",
       "<table border=\"1\" class=\"dataframe\">\n",
       "  <thead>\n",
       "    <tr style=\"text-align: right;\">\n",
       "      <th></th>\n",
       "      <th>indice</th>\n",
       "      <th>comparativo</th>\n",
       "      <th>coef</th>\n",
       "      <th>coef_anterior</th>\n",
       "      <th>arr_size</th>\n",
       "    </tr>\n",
       "  </thead>\n",
       "  <tbody>\n",
       "    <tr>\n",
       "      <th>count</th>\n",
       "      <td>385.000000</td>\n",
       "      <td>385.000000</td>\n",
       "      <td>385.000000</td>\n",
       "      <td>385.000000</td>\n",
       "      <td>385.000000</td>\n",
       "    </tr>\n",
       "    <tr>\n",
       "      <th>mean</th>\n",
       "      <td>0.132468</td>\n",
       "      <td>0.031113</td>\n",
       "      <td>0.063948</td>\n",
       "      <td>0.032835</td>\n",
       "      <td>324.605195</td>\n",
       "    </tr>\n",
       "    <tr>\n",
       "      <th>std</th>\n",
       "      <td>0.981925</td>\n",
       "      <td>0.299167</td>\n",
       "      <td>0.290404</td>\n",
       "      <td>0.135313</td>\n",
       "      <td>147.155955</td>\n",
       "    </tr>\n",
       "    <tr>\n",
       "      <th>min</th>\n",
       "      <td>-1.000000</td>\n",
       "      <td>-0.650848</td>\n",
       "      <td>-0.690000</td>\n",
       "      <td>-0.241333</td>\n",
       "      <td>60.000000</td>\n",
       "    </tr>\n",
       "    <tr>\n",
       "      <th>25%</th>\n",
       "      <td>-1.000000</td>\n",
       "      <td>-0.147091</td>\n",
       "      <td>0.000000</td>\n",
       "      <td>-0.065758</td>\n",
       "      <td>220.000000</td>\n",
       "    </tr>\n",
       "    <tr>\n",
       "      <th>50%</th>\n",
       "      <td>1.000000</td>\n",
       "      <td>0.065758</td>\n",
       "      <td>0.000000</td>\n",
       "      <td>0.029182</td>\n",
       "      <td>310.000000</td>\n",
       "    </tr>\n",
       "    <tr>\n",
       "      <th>75%</th>\n",
       "      <td>1.000000</td>\n",
       "      <td>0.212485</td>\n",
       "      <td>0.250000</td>\n",
       "      <td>0.147091</td>\n",
       "      <td>416.000000</td>\n",
       "    </tr>\n",
       "    <tr>\n",
       "      <th>max</th>\n",
       "      <td>1.000000</td>\n",
       "      <td>0.726455</td>\n",
       "      <td>0.760000</td>\n",
       "      <td>0.268000</td>\n",
       "      <td>979.000000</td>\n",
       "    </tr>\n",
       "  </tbody>\n",
       "</table>\n",
       "</div>"
      ],
      "text/plain": [
       "           indice  comparativo        coef  coef_anterior    arr_size\n",
       "count  385.000000   385.000000  385.000000     385.000000  385.000000\n",
       "mean     0.132468     0.031113    0.063948       0.032835  324.605195\n",
       "std      0.981925     0.299167    0.290404       0.135313  147.155955\n",
       "min     -1.000000    -0.650848   -0.690000      -0.241333   60.000000\n",
       "25%     -1.000000    -0.147091    0.000000      -0.065758  220.000000\n",
       "50%      1.000000     0.065758    0.000000       0.029182  310.000000\n",
       "75%      1.000000     0.212485    0.250000       0.147091  416.000000\n",
       "max      1.000000     0.726455    0.760000       0.268000  979.000000"
      ]
     },
     "execution_count": 38,
     "metadata": {},
     "output_type": "execute_result"
    }
   ],
   "source": [
    "df_news.describe()"
   ]
  },
  {
   "cell_type": "code",
   "execution_count": 39,
   "metadata": {},
   "outputs": [],
   "source": [
    "VOCAB_SIZE = 400"
   ]
  },
  {
   "cell_type": "code",
   "execution_count": 40,
   "metadata": {},
   "outputs": [
    {
     "data": {
      "text/plain": [
       "((385, 12), (338, 12), (40, 12))"
      ]
     },
     "execution_count": 40,
     "metadata": {},
     "output_type": "execute_result"
    }
   ],
   "source": [
    "df_news.shape, df_news[df_news.link.str.contains('mercado')].shape, df_news[df_news.link.str.contains('poder')].shape"
   ]
  },
  {
   "cell_type": "code",
   "execution_count": 41,
   "metadata": {},
   "outputs": [
    {
     "data": {
      "text/plain": [
       "array(['2016-04-01', '2016-04-04', '2016-04-05', '2016-04-07',\n",
       "       '2016-04-08', '2016-04-11', '2016-04-12', '2016-04-13',\n",
       "       '2016-04-14', '2016-04-15', '2016-04-18', '2016-04-19',\n",
       "       '2016-04-20', '2016-04-22', '2016-04-25', '2016-04-26',\n",
       "       '2016-04-27', '2016-04-28', '2016-04-29', '2016-05-02',\n",
       "       '2016-05-03', '2016-05-04', '2016-05-05', '2016-05-06',\n",
       "       '2016-05-09', '2016-05-10', '2016-05-11', '2016-05-12',\n",
       "       '2016-05-13', '2016-05-16', '2016-05-17', '2016-05-18',\n",
       "       '2016-05-19', '2016-05-20', '2016-05-23', '2016-05-24',\n",
       "       '2016-05-25', '2016-05-27', '2016-05-30', '2016-05-31',\n",
       "       '2016-06-01', '2016-06-02', '2016-06-03', '2016-06-06',\n",
       "       '2016-06-07', '2016-06-09', '2016-06-10', '2016-06-13',\n",
       "       '2016-06-14', '2016-06-15', '2016-06-16', '2016-06-17',\n",
       "       '2016-06-20', '2016-06-21', '2016-06-22', '2016-06-23',\n",
       "       '2016-06-24', '2016-06-27', '2016-06-28', '2016-06-29',\n",
       "       '2016-06-30'], dtype=object)"
      ]
     },
     "execution_count": 41,
     "metadata": {},
     "output_type": "execute_result"
    }
   ],
   "source": [
    "df_news.date.unique()"
   ]
  },
  {
   "cell_type": "code",
   "execution_count": 42,
   "metadata": {},
   "outputs": [],
   "source": [
    "category = []\n",
    "for indice in df_news.indice.to_list():\n",
    "    value = 'neutro'\n",
    "    if(indice > 0):\n",
    "        value = 'alta'\n",
    "    if(indice < 0):\n",
    "        value = 'baixa'\n",
    "\n",
    "    category.append(value)\n",
    "\n",
    "df_news['category'] = category"
   ]
  },
  {
   "cell_type": "code",
   "execution_count": 43,
   "metadata": {},
   "outputs": [
    {
     "data": {
      "text/html": [
       "<div>\n",
       "<style scoped>\n",
       "    .dataframe tbody tr th:only-of-type {\n",
       "        vertical-align: middle;\n",
       "    }\n",
       "\n",
       "    .dataframe tbody tr th {\n",
       "        vertical-align: top;\n",
       "    }\n",
       "\n",
       "    .dataframe thead th {\n",
       "        text-align: right;\n",
       "    }\n",
       "</style>\n",
       "<table border=\"1\" class=\"dataframe\">\n",
       "  <thead>\n",
       "    <tr style=\"text-align: right;\">\n",
       "      <th></th>\n",
       "      <th>date</th>\n",
       "      <th>title</th>\n",
       "      <th>text</th>\n",
       "      <th>indice</th>\n",
       "      <th>comparativo</th>\n",
       "      <th>link</th>\n",
       "      <th>coef</th>\n",
       "      <th>coef_anterior</th>\n",
       "      <th>stemm</th>\n",
       "      <th>etiqueta</th>\n",
       "      <th>arr</th>\n",
       "      <th>arr_size</th>\n",
       "      <th>category</th>\n",
       "    </tr>\n",
       "  </thead>\n",
       "  <tbody>\n",
       "    <tr>\n",
       "      <th>5</th>\n",
       "      <td>2016-04-01</td>\n",
       "      <td>Bolsa sobe 18% e dólar recua mais de 6% na sem...</td>\n",
       "      <td>euforia mercado financeiro brasileiro continuo...</td>\n",
       "      <td>-1</td>\n",
       "      <td>-0.056061</td>\n",
       "      <td>http://www1.folha.uol.com.br/mercado/2016/03/1...</td>\n",
       "      <td>0.0</td>\n",
       "      <td>0.056061</td>\n",
       "      <td>acion aprov nest quintaf reserv milho event pa...</td>\n",
       "      <td>Relacionado ao mercado de ações</td>\n",
       "      <td>[euforia, mercado, financeiro, brasileiro, con...</td>\n",
       "      <td>383</td>\n",
       "      <td>baixa</td>\n",
       "    </tr>\n",
       "    <tr>\n",
       "      <th>7</th>\n",
       "      <td>2016-04-01</td>\n",
       "      <td>Não havia como Lula não saber de desvios na Pe...</td>\n",
       "      <td>pedido busca apreensao contra expresidente lui...</td>\n",
       "      <td>-1</td>\n",
       "      <td>-0.056061</td>\n",
       "      <td>http://www1.folha.uol.com.br/poder/2016/03/174...</td>\n",
       "      <td>0.0</td>\n",
       "      <td>0.056061</td>\n",
       "      <td>acion hidreletr bel mont send constru aprov ab...</td>\n",
       "      <td>Relacionado à Petrobrás</td>\n",
       "      <td>[pedido, busca, apreensao, contra, expresident...</td>\n",
       "      <td>267</td>\n",
       "      <td>baixa</td>\n",
       "    </tr>\n",
       "    <tr>\n",
       "      <th>14</th>\n",
       "      <td>2016-04-01</td>\n",
       "      <td>Esqueleto de ações trabalhistas de R$ 30 bilhõ...</td>\n",
       "      <td>meio maior crise financeira historia petrobras...</td>\n",
       "      <td>-1</td>\n",
       "      <td>-0.056061</td>\n",
       "      <td>http://www1.folha.uol.com.br/mercado/2016/03/1...</td>\n",
       "      <td>0.0</td>\n",
       "      <td>0.056061</td>\n",
       "      <td>aco ordin jb mai empr aliment mund fech qued n...</td>\n",
       "      <td>Relacionado à Petrobrás</td>\n",
       "      <td>[meio, maior, crise, financeira, historia, pet...</td>\n",
       "      <td>275</td>\n",
       "      <td>baixa</td>\n",
       "    </tr>\n",
       "    <tr>\n",
       "      <th>15</th>\n",
       "      <td>2016-04-01</td>\n",
       "      <td>Há indício de que Lula recebeu verba desviada ...</td>\n",
       "      <td>manifestacao contundente desde inicio operacao...</td>\n",
       "      <td>-1</td>\n",
       "      <td>-0.056061</td>\n",
       "      <td>http://www1.folha.uol.com.br/poder/2016/03/174...</td>\n",
       "      <td>0.0</td>\n",
       "      <td>0.056061</td>\n",
       "      <td>acord delaca premi expresid transpetr sergi ma...</td>\n",
       "      <td>Relacionado à estatais, governo e políticas pú...</td>\n",
       "      <td>[manifestacao, contundente, desde, inicio, ope...</td>\n",
       "      <td>567</td>\n",
       "      <td>baixa</td>\n",
       "    </tr>\n",
       "    <tr>\n",
       "      <th>21</th>\n",
       "      <td>2016-04-01</td>\n",
       "      <td>Dólar cai a R$ 3,72 e Bolsa sobe com ação da P...</td>\n",
       "      <td>segundo dia seguido mercado financeiro brasile...</td>\n",
       "      <td>-1</td>\n",
       "      <td>-0.056061</td>\n",
       "      <td>http://www1.folha.uol.com.br/mercado/2016/03/1...</td>\n",
       "      <td>0.0</td>\n",
       "      <td>0.056061</td>\n",
       "      <td>acord renegociaca div bilho odebrecht agroindu...</td>\n",
       "      <td>Relacionado ao mercado de ações</td>\n",
       "      <td>[segundo, dia, seguido, mercado, financeiro, b...</td>\n",
       "      <td>416</td>\n",
       "      <td>baixa</td>\n",
       "    </tr>\n",
       "  </tbody>\n",
       "</table>\n",
       "</div>"
      ],
      "text/plain": [
       "          date                                              title  \\\n",
       "5   2016-04-01  Bolsa sobe 18% e dólar recua mais de 6% na sem...   \n",
       "7   2016-04-01  Não havia como Lula não saber de desvios na Pe...   \n",
       "14  2016-04-01  Esqueleto de ações trabalhistas de R$ 30 bilhõ...   \n",
       "15  2016-04-01  Há indício de que Lula recebeu verba desviada ...   \n",
       "21  2016-04-01  Dólar cai a R$ 3,72 e Bolsa sobe com ação da P...   \n",
       "\n",
       "                                                 text  indice  comparativo  \\\n",
       "5   euforia mercado financeiro brasileiro continuo...      -1    -0.056061   \n",
       "7   pedido busca apreensao contra expresidente lui...      -1    -0.056061   \n",
       "14  meio maior crise financeira historia petrobras...      -1    -0.056061   \n",
       "15  manifestacao contundente desde inicio operacao...      -1    -0.056061   \n",
       "21  segundo dia seguido mercado financeiro brasile...      -1    -0.056061   \n",
       "\n",
       "                                                 link  coef  coef_anterior  \\\n",
       "5   http://www1.folha.uol.com.br/mercado/2016/03/1...   0.0       0.056061   \n",
       "7   http://www1.folha.uol.com.br/poder/2016/03/174...   0.0       0.056061   \n",
       "14  http://www1.folha.uol.com.br/mercado/2016/03/1...   0.0       0.056061   \n",
       "15  http://www1.folha.uol.com.br/poder/2016/03/174...   0.0       0.056061   \n",
       "21  http://www1.folha.uol.com.br/mercado/2016/03/1...   0.0       0.056061   \n",
       "\n",
       "                                                stemm  \\\n",
       "5   acion aprov nest quintaf reserv milho event pa...   \n",
       "7   acion hidreletr bel mont send constru aprov ab...   \n",
       "14  aco ordin jb mai empr aliment mund fech qued n...   \n",
       "15  acord delaca premi expresid transpetr sergi ma...   \n",
       "21  acord renegociaca div bilho odebrecht agroindu...   \n",
       "\n",
       "                                             etiqueta  \\\n",
       "5                     Relacionado ao mercado de ações   \n",
       "7                             Relacionado à Petrobrás   \n",
       "14                            Relacionado à Petrobrás   \n",
       "15  Relacionado à estatais, governo e políticas pú...   \n",
       "21                    Relacionado ao mercado de ações   \n",
       "\n",
       "                                                  arr  arr_size category  \n",
       "5   [euforia, mercado, financeiro, brasileiro, con...       383    baixa  \n",
       "7   [pedido, busca, apreensao, contra, expresident...       267    baixa  \n",
       "14  [meio, maior, crise, financeira, historia, pet...       275    baixa  \n",
       "15  [manifestacao, contundente, desde, inicio, ope...       567    baixa  \n",
       "21  [segundo, dia, seguido, mercado, financeiro, b...       416    baixa  "
      ]
     },
     "execution_count": 43,
     "metadata": {},
     "output_type": "execute_result"
    }
   ],
   "source": [
    "df_news.head()"
   ]
  },
  {
   "cell_type": "code",
   "execution_count": 44,
   "metadata": {},
   "outputs": [],
   "source": [
    "df_news = df_news[df_news.link.str.contains('mercado')]\n",
    "# df_news = pd.concat([df_news[df_news.indice == 0].sample(19), df_news[df_news.indice == 1].sample(50), df_news[df_news.indice == -1].sample(50)], ignore_index=True)\n",
    "X_train, X_test, y_train, y_test = train_test_split(df_news.stemm, df_news.category)\n"
   ]
  },
  {
   "cell_type": "code",
   "execution_count": 45,
   "metadata": {
    "id": "A95oLiok9OnJ"
   },
   "outputs": [],
   "source": [
    "categories = df_news.category.unique()"
   ]
  },
  {
   "cell_type": "code",
   "execution_count": 46,
   "metadata": {},
   "outputs": [
    {
     "data": {
      "text/plain": [
       "array(['baixa', 'neutro', 'alta'], dtype=object)"
      ]
     },
     "execution_count": 46,
     "metadata": {},
     "output_type": "execute_result"
    }
   ],
   "source": [
    "categories"
   ]
  },
  {
   "cell_type": "markdown",
   "metadata": {},
   "source": [
    "#### Prepara os dados "
   ]
  },
  {
   "cell_type": "code",
   "execution_count": 47,
   "metadata": {},
   "outputs": [],
   "source": [
    "list_of_data = list([element for element in X_train])\n",
    "list_of_label = list([convert_to_discrete(element) for element in y_train])"
   ]
  },
  {
   "cell_type": "code",
   "execution_count": 48,
   "metadata": {
    "colab": {
     "base_uri": "https://localhost:8080/"
    },
    "id": "kYFoAv4rnf-E",
    "outputId": "85abd624-be11-4e60-b5b2-f8b913c7f072",
    "scrolled": true
   },
   "outputs": [],
   "source": [
    "list_of_data_test = list([element for element in X_test])\n",
    "list_of_label_test = list([convert_to_discrete(element) for element in y_test])"
   ]
  },
  {
   "cell_type": "markdown",
   "metadata": {},
   "source": [
    "#### Vectorizador dos artigos"
   ]
  },
  {
   "cell_type": "code",
   "execution_count": 49,
   "metadata": {
    "id": "qSDjYwp4nSjM"
   },
   "outputs": [],
   "source": [
    "encoder_vectorization = tf.keras.layers.TextVectorization(max_tokens=None, ngrams=3)"
   ]
  },
  {
   "cell_type": "code",
   "execution_count": 50,
   "metadata": {},
   "outputs": [],
   "source": [
    "## Converte para tensor\n",
    "tf_train = tf.convert_to_tensor(X_train)\n",
    "tf_test = tf.convert_to_tensor(X_test)"
   ]
  },
  {
   "cell_type": "code",
   "execution_count": 51,
   "metadata": {},
   "outputs": [],
   "source": [
    "encoder_vectorization.adapt(tf_train.numpy().T)\n",
    "vocab = np.array(encoder_vectorization.get_vocabulary())\n"
   ]
  },
  {
   "cell_type": "code",
   "execution_count": 52,
   "metadata": {},
   "outputs": [
    {
     "data": {
      "text/plain": [
       "139031"
      ]
     },
     "execution_count": 52,
     "metadata": {},
     "output_type": "execute_result"
    }
   ],
   "source": [
    "len(vocab)"
   ]
  },
  {
   "cell_type": "markdown",
   "metadata": {},
   "source": [
    "#### Parametros\n"
   ]
  },
  {
   "cell_type": "code",
   "execution_count": 53,
   "metadata": {},
   "outputs": [],
   "source": [
    "t_data = tf_train.numpy().T\n",
    "t_data_test = tf_test.numpy().T\n",
    "\n",
    "tf_dataset = tf.data.Dataset.from_tensor_slices((X_train, y_train))\n",
    "tf_dataset_test = tf.data.Dataset.from_tensor_slices((X_test, y_test))\n"
   ]
  },
  {
   "cell_type": "code",
   "execution_count": 62,
   "metadata": {},
   "outputs": [
    {
     "data": {
      "text/plain": [
       "tensorflow.python.data.ops.dataset_ops.TensorSliceDataset"
      ]
     },
     "execution_count": 62,
     "metadata": {},
     "output_type": "execute_result"
    }
   ],
   "source": [
    "type(tf_dataset)"
   ]
  },
  {
   "cell_type": "code",
   "execution_count": 54,
   "metadata": {},
   "outputs": [
    {
     "data": {
      "text/plain": [
       "((253,), (85,))"
      ]
     },
     "execution_count": 54,
     "metadata": {},
     "output_type": "execute_result"
    }
   ],
   "source": [
    "t_data.shape, t_data_test.shape"
   ]
  },
  {
   "cell_type": "code",
   "execution_count": 55,
   "metadata": {},
   "outputs": [],
   "source": [
    "BATCH_SIZE = int(len(t_data) / 10)\n",
    "\n",
    "\n",
    "data = tf_dataset.shuffle(len(t_data)).batch(BATCH_SIZE).repeat().prefetch(tf.data.AUTOTUNE)\n",
    "data_test = tf_dataset_test.shuffle(len(t_data_test)).batch(BATCH_SIZE).repeat().prefetch(tf.data.AUTOTUNE)\n",
    "\n",
    "label = np_utils.to_categorical(list_of_label, len(categories)).tolist()\n",
    "label_test = np_utils.to_categorical(list_of_label_test, len(categories)).tolist()\n",
    "\n",
    "tensor_data_train = tf.convert_to_tensor(t_data)\n",
    "tensor_data_test = tf.convert_to_tensor(t_data_test)\n",
    "tensor_data_train_label = tf.convert_to_tensor(label)\n",
    "tensor_data_test_label = tf.convert_to_tensor(label_test)\n"
   ]
  },
  {
   "cell_type": "code",
   "execution_count": 58,
   "metadata": {},
   "outputs": [
    {
     "name": "stdout",
     "output_type": "stream",
     "text": [
      "Epoch 1/20\n",
      "25/25 [==============================] - 16s 324ms/step - loss: 5.4340 - accuracy: 0.3200 - val_loss: 5.7152 - val_accuracy: 0.3059\n",
      "Epoch 2/20\n",
      "25/25 [==============================] - 6s 231ms/step - loss: 4.1600 - accuracy: 0.4545 - val_loss: 5.1137 - val_accuracy: 0.4353\n",
      "Epoch 3/20\n",
      "25/25 [==============================] - 5s 202ms/step - loss: 3.3055 - accuracy: 0.5236 - val_loss: 1.3924 - val_accuracy: 0.5882\n",
      "Epoch 4/20\n",
      "25/25 [==============================] - 5s 223ms/step - loss: 0.9662 - accuracy: 0.6327 - val_loss: 0.6392 - val_accuracy: 0.5765\n",
      "Epoch 5/20\n",
      "25/25 [==============================] - 7s 273ms/step - loss: 0.8454 - accuracy: 0.6800 - val_loss: 0.5071 - val_accuracy: 0.5765\n",
      "Epoch 6/20\n",
      "25/25 [==============================] - 7s 272ms/step - loss: 0.8794 - accuracy: 0.7091 - val_loss: 0.8068 - val_accuracy: 0.5765\n",
      "Epoch 7/20\n",
      "25/25 [==============================] - 7s 292ms/step - loss: 1.1051 - accuracy: 0.7527 - val_loss: 0.5936 - val_accuracy: 0.6000\n",
      "Epoch 8/20\n",
      "25/25 [==============================] - 6s 239ms/step - loss: 0.6703 - accuracy: 0.7818 - val_loss: 0.4023 - val_accuracy: 0.6118\n",
      "Epoch 9/20\n",
      "25/25 [==============================] - 7s 302ms/step - loss: 0.6643 - accuracy: 0.7382 - val_loss: 0.3917 - val_accuracy: 0.6235\n",
      "Epoch 10/20\n",
      "25/25 [==============================] - 6s 226ms/step - loss: 0.7748 - accuracy: 0.7564 - val_loss: 0.3839 - val_accuracy: 0.6235\n",
      "Epoch 11/20\n",
      "25/25 [==============================] - 6s 221ms/step - loss: 0.8246 - accuracy: 0.7491 - val_loss: 0.3781 - val_accuracy: 0.6118\n",
      "Epoch 12/20\n",
      "25/25 [==============================] - 5s 218ms/step - loss: 0.7749 - accuracy: 0.7564 - val_loss: 0.5643 - val_accuracy: 0.6235\n",
      "Epoch 13/20\n",
      "25/25 [==============================] - 5s 224ms/step - loss: 0.9443 - accuracy: 0.7418 - val_loss: 0.5615 - val_accuracy: 0.6235\n",
      "Epoch 14/20\n",
      "25/25 [==============================] - 6s 229ms/step - loss: 0.9430 - accuracy: 0.7673 - val_loss: 0.5584 - val_accuracy: 0.6235\n",
      "Epoch 15/20\n",
      "25/25 [==============================] - 6s 259ms/step - loss: 0.8835 - accuracy: 0.7527 - val_loss: 0.5554 - val_accuracy: 0.6235\n",
      "Epoch 16/20\n",
      "25/25 [==============================] - 6s 237ms/step - loss: 1.1170 - accuracy: 0.7382 - val_loss: 0.5529 - val_accuracy: 0.6235\n",
      "Epoch 17/20\n",
      "25/25 [==============================] - 7s 272ms/step - loss: 1.0596 - accuracy: 0.7418 - val_loss: 0.5492 - val_accuracy: 0.6235\n",
      "Epoch 18/20\n",
      "25/25 [==============================] - 6s 262ms/step - loss: 0.7049 - accuracy: 0.7745 - val_loss: 0.5446 - val_accuracy: 0.6353\n",
      "Epoch 19/20\n",
      "10/25 [===========>..................] - ETA: 1s - loss: 1.0257 - accuracy: 0.7727WARNING:tensorflow:Your input ran out of data; interrupting training. Make sure that your dataset or generator can generate at least `steps_per_epoch * epochs` batches (in this case, 500 batches). You may need to use the repeat() function when building your dataset.\n",
      "25/25 [==============================] - 4s 154ms/step - loss: 1.0257 - accuracy: 0.7727 - val_loss: 0.5439 - val_accuracy: 0.6353\n"
     ]
    }
   ],
   "source": [
    "model = tf.keras.Sequential([\n",
    "    encoder_vectorization,\n",
    "    tf.keras.layers.Embedding(len(encoder_vectorization.get_vocabulary()), 64, mask_zero=True),\n",
    "    tf.keras.layers.Bidirectional(tf.keras.layers.LSTM(64)),\n",
    "    tf.keras.layers.Dense(128, activation=tf.keras.activations.relu),\n",
    "    tf.keras.layers.Dense(len(categories))\n",
    "])\n",
    "\n",
    "    model.compile(loss=tf.keras.losses.CategoricalCrossentropy(from_logits=False),\n",
    "                optimizer=tf.keras.optimizers.Adam(1e-4), \n",
    "                metrics='accuracy')\n",
    "\n",
    "history = model.fit(tensor_data_train\n",
    "    , tensor_data_train_label\n",
    "    , epochs=20\n",
    "    , validation_data=(tensor_data_test, tensor_data_test_label)\n",
    "    , steps_per_epoch=BATCH_SIZE\n",
    "    , validation_steps=len(tensor_data_test)\n",
    ")"
   ]
  },
  {
   "cell_type": "code",
   "execution_count": 59,
   "metadata": {},
   "outputs": [
    {
     "data": {
      "image/png": "[encoded data removed]",
      "text/plain": [
       "<Figure size 1152x576 with 2 Axes>"
      ]
     },
     "metadata": {
      "needs_background": "light"
     },
     "output_type": "display_data"
    }
   ],
   "source": [
    "plot_history(history)"
   ]
  },
  {
   "cell_type": "code",
   "execution_count": 67,
   "metadata": {},
   "outputs": [
    {
     "name": "stdout",
     "output_type": "stream",
     "text": [
      "3/3 [==============================] - 1s 82ms/step\n"
     ]
    },
    {
     "data": {
      "text/plain": [
       "(42, 85, 0.49411764705882355)"
      ]
     },
     "execution_count": 67,
     "metadata": {},
     "output_type": "execute_result"
    }
   ],
   "source": [
    "predicao = model.predict(tensor_data_test, use_multiprocessing=True)\n",
    "acertos = 0\n",
    "total = len(predicao)\n",
    "\n",
    "predicao[predicao < 0] = 0\n",
    "predicao[predicao > 1] = 1\n",
    "for i in range(0, total):\n",
    "    if(compara(np.round(predicao[i]), label_test[i])):\n",
    "        acertos = 1 + acertos\n",
    "        \n",
    "acertos, total, acertos/total"
   ]
  }
 ],
 "metadata": {
  "accelerator": "GPU",
  "colab": {
   "collapsed_sections": [],
   "name": "News_RNN",
   "provenance": []
  },
  "kernelspec": {
   "display_name": "Python 3.8.0 ('venv': venv)",
   "language": "python",
   "name": "python3"
  },
  "language_info": {
   "codemirror_mode": {
    "name": "ipython",
    "version": 3
   },
   "file_extension": ".py",
   "mimetype": "text/x-python",
   "name": "python",
   "nbconvert_exporter": "python",
   "pygments_lexer": "ipython3",
   "version": "3.8.0 (tags/v3.8.0:fa919fd, Oct 14 2019, 19:37:50) [MSC v.1916 64 bit (AMD64)]"
  },
  "vscode": {
   "interpreter": {
    "hash": "95d9a17cd2221a3d2551cd76b8b18fe812ed47b84f4d6a09bd742e36b360b88f"
   }
  }
 },
 "nbformat": 4,
 "nbformat_minor": 1
}
